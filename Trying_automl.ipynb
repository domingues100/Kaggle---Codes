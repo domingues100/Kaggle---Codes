{
  "metadata": {
    "kernelspec": {
      "language": "python",
      "display_name": "Python 3",
      "name": "python3"
    },
    "language_info": {
      "name": "python",
      "version": "3.10.13",
      "mimetype": "text/x-python",
      "codemirror_mode": {
        "name": "ipython",
        "version": 3
      },
      "pygments_lexer": "ipython3",
      "nbconvert_exporter": "python",
      "file_extension": ".py"
    },
    "kaggle": {
      "accelerator": "none",
      "dataSources": [
        {
          "sourceId": 73278,
          "databundleVersionId": 8121328,
          "sourceType": "competition"
        }
      ],
      "dockerImageVersionId": 30698,
      "isInternetEnabled": true,
      "language": "python",
      "sourceType": "notebook",
      "isGpuEnabled": false
    },
    "colab": {
      "name": "Trying automl",
      "provenance": [],
      "include_colab_link": true
    }
  },
  "nbformat_minor": 0,
  "nbformat": 4,
  "cells": [
    {
      "cell_type": "markdown",
      "metadata": {
        "id": "view-in-github",
        "colab_type": "text"
      },
      "source": [
        "<a href=\"https://colab.research.google.com/github/domingues100/Kaggle---Codes/blob/master/Trying_automl.ipynb\" target=\"_parent\"><img src=\"https://colab.research.google.com/assets/colab-badge.svg\" alt=\"Open In Colab\"/></a>"
      ]
    },
    {
      "source": [
        "\n",
        "# IMPORTANT: RUN THIS CELL IN ORDER TO IMPORT YOUR KAGGLE DATA SOURCES\n",
        "# TO THE CORRECT LOCATION (/kaggle/input) IN YOUR NOTEBOOK,\n",
        "# THEN FEEL FREE TO DELETE THIS CELL.\n",
        "# NOTE: THIS NOTEBOOK ENVIRONMENT DIFFERS FROM KAGGLE'S PYTHON\n",
        "# ENVIRONMENT SO THERE MAY BE MISSING LIBRARIES USED BY YOUR\n",
        "# NOTEBOOK.\n",
        "\n",
        "import os\n",
        "import sys\n",
        "from tempfile import NamedTemporaryFile\n",
        "from urllib.request import urlopen\n",
        "from urllib.parse import unquote, urlparse\n",
        "from urllib.error import HTTPError\n",
        "from zipfile import ZipFile\n",
        "import tarfile\n",
        "import shutil\n",
        "\n",
        "CHUNK_SIZE = 40960\n",
        "DATA_SOURCE_MAPPING = 'playground-series-s4e5:https%3A%2F%2Fstorage.googleapis.com%2Fkaggle-competitions-data%2Fkaggle-v2%2F73278%2F8121328%2Fbundle%2Farchive.zip%3FX-Goog-Algorithm%3DGOOG4-RSA-SHA256%26X-Goog-Credential%3Dgcp-kaggle-com%2540kaggle-161607.iam.gserviceaccount.com%252F20240517%252Fauto%252Fstorage%252Fgoog4_request%26X-Goog-Date%3D20240517T015217Z%26X-Goog-Expires%3D259200%26X-Goog-SignedHeaders%3Dhost%26X-Goog-Signature%3D3d8b3369b3776930ebd62725f4e8606d64111f220ffbaef1bf3e46c15b32409de6ba125d569a5266a4c770b3729e7061a49e2b4cb9f8e6ae27b6c658a8e959bf7c898c6dc16538f2b1389f07a6c1676a56076bd84e244bdcdfbc0c8d6dfac179199aa4cc008ef396951c55268d912f62296cc87b48e5c240c01cee268b1ed97e2c6b4fb51d0b4186fa96907671f5a3cc497c0e6f4ef7a912456b7a79404400f962da344b3ec271d82b19f7012f8a1e1a5218ec85a925be4d715e06c2d21188e561ebbc47383cd8a45786cce40445c0daee3ab0d3e28650c77daa56bc879375338dae984f67d19c4c6d6f2028d918a90304e02b48d836f2f4aae2a862dfb1d3bb'\n",
        "\n",
        "KAGGLE_INPUT_PATH='/kaggle/input'\n",
        "KAGGLE_WORKING_PATH='/kaggle/working'\n",
        "KAGGLE_SYMLINK='kaggle'\n",
        "\n",
        "!umount /kaggle/input/ 2> /dev/null\n",
        "shutil.rmtree('/kaggle/input', ignore_errors=True)\n",
        "os.makedirs(KAGGLE_INPUT_PATH, 0o777, exist_ok=True)\n",
        "os.makedirs(KAGGLE_WORKING_PATH, 0o777, exist_ok=True)\n",
        "\n",
        "try:\n",
        "  os.symlink(KAGGLE_INPUT_PATH, os.path.join(\"..\", 'input'), target_is_directory=True)\n",
        "except FileExistsError:\n",
        "  pass\n",
        "try:\n",
        "  os.symlink(KAGGLE_WORKING_PATH, os.path.join(\"..\", 'working'), target_is_directory=True)\n",
        "except FileExistsError:\n",
        "  pass\n",
        "\n",
        "for data_source_mapping in DATA_SOURCE_MAPPING.split(','):\n",
        "    directory, download_url_encoded = data_source_mapping.split(':')\n",
        "    download_url = unquote(download_url_encoded)\n",
        "    filename = urlparse(download_url).path\n",
        "    destination_path = os.path.join(KAGGLE_INPUT_PATH, directory)\n",
        "    try:\n",
        "        with urlopen(download_url) as fileres, NamedTemporaryFile() as tfile:\n",
        "            total_length = fileres.headers['content-length']\n",
        "            print(f'Downloading {directory}, {total_length} bytes compressed')\n",
        "            dl = 0\n",
        "            data = fileres.read(CHUNK_SIZE)\n",
        "            while len(data) > 0:\n",
        "                dl += len(data)\n",
        "                tfile.write(data)\n",
        "                done = int(50 * dl / int(total_length))\n",
        "                sys.stdout.write(f\"\\r[{'=' * done}{' ' * (50-done)}] {dl} bytes downloaded\")\n",
        "                sys.stdout.flush()\n",
        "                data = fileres.read(CHUNK_SIZE)\n",
        "            if filename.endswith('.zip'):\n",
        "              with ZipFile(tfile) as zfile:\n",
        "                zfile.extractall(destination_path)\n",
        "            else:\n",
        "              with tarfile.open(tfile.name) as tarfile:\n",
        "                tarfile.extractall(destination_path)\n",
        "            print(f'\\nDownloaded and uncompressed: {directory}')\n",
        "    except HTTPError as e:\n",
        "        print(f'Failed to load (likely expired) {download_url} to path {destination_path}')\n",
        "        continue\n",
        "    except OSError as e:\n",
        "        print(f'Failed to load {download_url} to path {destination_path}')\n",
        "        continue\n",
        "\n",
        "print('Data source import complete.')\n"
      ],
      "metadata": {
        "id": "TgflMQIVQAEF"
      },
      "cell_type": "code",
      "outputs": [],
      "execution_count": null
    },
    {
      "cell_type": "code",
      "source": [
        "# This Python 3 environment comes with many helpful analytics libraries installed\n",
        "# It is defined by the kaggle/python Docker image: https://github.com/kaggle/docker-python\n",
        "# For example, here's several helpful packages to load\n",
        "\n",
        "import numpy as np # linear algebra\n",
        "import pandas as pd # data processing, CSV file I/O (e.g. pd.read_csv)\n",
        "\n",
        "# Input data files are available in the read-only \"../input/\" directory\n",
        "# For example, running this (by clicking run or pressing Shift+Enter) will list all files under the input directory\n",
        "\n",
        "import os\n",
        "for dirname, _, filenames in os.walk('/kaggle/input'):\n",
        "    for filename in filenames:\n",
        "        print(os.path.join(dirname, filename))\n",
        "\n",
        "# You can write up to 20GB to the current directory (/kaggle/working/) that gets preserved as output when you create a version using \"Save & Run All\"\n",
        "# You can also write temporary files to /kaggle/temp/, but they won't be saved outside of the current session"
      ],
      "metadata": {
        "_uuid": "8f2839f25d086af736a60e9eeb907d3b93b6e0e5",
        "_cell_guid": "b1076dfc-b9ad-4769-8c92-a6c4dae69d19",
        "execution": {
          "iopub.status.busy": "2024-05-10T03:21:29.85515Z",
          "iopub.execute_input": "2024-05-10T03:21:29.855748Z",
          "iopub.status.idle": "2024-05-10T03:21:30.350577Z",
          "shell.execute_reply.started": "2024-05-10T03:21:29.855705Z",
          "shell.execute_reply": "2024-05-10T03:21:30.349305Z"
        },
        "trusted": true,
        "id": "ncAnJkFxQAEJ",
        "outputId": "d81b2894-c935-4f51-e654-b970a9c340c9"
      },
      "execution_count": null,
      "outputs": [
        {
          "name": "stdout",
          "text": "/kaggle/input/playground-series-s4e5/sample_submission.csv\n/kaggle/input/playground-series-s4e5/train.csv\n/kaggle/input/playground-series-s4e5/test.csv\n",
          "output_type": "stream"
        }
      ]
    },
    {
      "cell_type": "code",
      "source": [
        "!pip install -U lightautoml"
      ],
      "metadata": {
        "execution": {
          "iopub.status.busy": "2024-05-10T18:24:38.194517Z",
          "iopub.execute_input": "2024-05-10T18:24:38.194965Z",
          "iopub.status.idle": "2024-05-10T18:27:25.989094Z",
          "shell.execute_reply.started": "2024-05-10T18:24:38.194925Z",
          "shell.execute_reply": "2024-05-10T18:27:25.987569Z"
        },
        "trusted": true,
        "id": "klG2cFWfQAEL",
        "outputId": "73d66526-4df4-4b71-9986-21f4dbf66992"
      },
      "execution_count": null,
      "outputs": [
        {
          "name": "stdout",
          "text": "Collecting lightautoml\n  Downloading lightautoml-0.3.8.1-py3-none-any.whl.metadata (16 kB)\nCollecting autowoe>=1.2 (from lightautoml)\n  Downloading AutoWoE-1.3.2-py3-none-any.whl.metadata (2.8 kB)\nRequirement already satisfied: catboost>=0.26.1 in /opt/conda/lib/python3.10/site-packages (from lightautoml) (1.2.3)\nCollecting cmaes (from lightautoml)\n  Downloading cmaes-0.10.0-py3-none-any.whl.metadata (19 kB)\nRequirement already satisfied: holidays in /opt/conda/lib/python3.10/site-packages (from lightautoml) (0.24)\nRequirement already satisfied: jinja2 in /opt/conda/lib/python3.10/site-packages (from lightautoml) (3.1.2)\nCollecting joblib<1.3.0 (from lightautoml)\n  Downloading joblib-1.2.0-py3-none-any.whl.metadata (5.3 kB)\nCollecting json2html (from lightautoml)\n  Downloading json2html-1.3.0.tar.gz (7.0 kB)\n  Preparing metadata (setup.py) ... \u001b[?25ldone\n\u001b[?25hCollecting lightgbm<=3.2.1,>=2.3 (from lightautoml)\n  Downloading lightgbm-3.2.1-py3-none-manylinux1_x86_64.whl.metadata (14 kB)\nRequirement already satisfied: networkx in /opt/conda/lib/python3.10/site-packages (from lightautoml) (3.2.1)\nRequirement already satisfied: numpy>=1.22 in /opt/conda/lib/python3.10/site-packages (from lightautoml) (1.26.4)\nRequirement already satisfied: optuna in /opt/conda/lib/python3.10/site-packages (from lightautoml) (3.6.1)\nCollecting pandas<2.0.0 (from lightautoml)\n  Downloading pandas-1.5.3-cp310-cp310-manylinux_2_17_x86_64.manylinux2014_x86_64.whl.metadata (11 kB)\nCollecting poetry-core<2.0.0,>=1.0.0 (from lightautoml)\n  Downloading poetry_core-1.9.0-py3-none-any.whl.metadata (3.5 kB)\nRequirement already satisfied: pyyaml in /opt/conda/lib/python3.10/site-packages (from lightautoml) (6.0.1)\nRequirement already satisfied: scikit-learn>=0.22 in /opt/conda/lib/python3.10/site-packages (from lightautoml) (1.2.2)\nRequirement already satisfied: seaborn in /opt/conda/lib/python3.10/site-packages (from lightautoml) (0.12.2)\nCollecting statsmodels<=0.14.0 (from lightautoml)\n  Downloading statsmodels-0.14.0-cp310-cp310-manylinux_2_17_x86_64.manylinux2014_x86_64.whl.metadata (9.0 kB)\nCollecting torch<=2.0.0,>=1.9.0 (from lightautoml)\n  Downloading torch-2.0.0-cp310-cp310-manylinux1_x86_64.whl.metadata (24 kB)\nRequirement already satisfied: tqdm in /opt/conda/lib/python3.10/site-packages (from lightautoml) (4.66.1)\nCollecting StrEnum<0.5.0,>=0.4.7 (from autowoe>=1.2->lightautoml)\n  Downloading StrEnum-0.4.15-py3-none-any.whl.metadata (5.3 kB)\nRequirement already satisfied: matplotlib in /opt/conda/lib/python3.10/site-packages (from autowoe>=1.2->lightautoml) (3.7.5)\nRequirement already satisfied: pytest in /opt/conda/lib/python3.10/site-packages (from autowoe>=1.2->lightautoml) (8.1.1)\nRequirement already satisfied: pytz in /opt/conda/lib/python3.10/site-packages (from autowoe>=1.2->lightautoml) (2023.3.post1)\nRequirement already satisfied: scipy in /opt/conda/lib/python3.10/site-packages (from autowoe>=1.2->lightautoml) (1.11.4)\nCollecting sphinx (from autowoe>=1.2->lightautoml)\n  Downloading sphinx-7.3.7-py3-none-any.whl.metadata (6.0 kB)\nRequirement already satisfied: sphinx-rtd-theme in /opt/conda/lib/python3.10/site-packages (from autowoe>=1.2->lightautoml) (0.2.4)\nRequirement already satisfied: graphviz in /opt/conda/lib/python3.10/site-packages (from catboost>=0.26.1->lightautoml) (0.20.3)\nRequirement already satisfied: plotly in /opt/conda/lib/python3.10/site-packages (from catboost>=0.26.1->lightautoml) (5.18.0)\nRequirement already satisfied: six in /opt/conda/lib/python3.10/site-packages (from catboost>=0.26.1->lightautoml) (1.16.0)\nRequirement already satisfied: wheel in /opt/conda/lib/python3.10/site-packages (from lightgbm<=3.2.1,>=2.3->lightautoml) (0.42.0)\nRequirement already satisfied: python-dateutil>=2.8.1 in /opt/conda/lib/python3.10/site-packages (from pandas<2.0.0->lightautoml) (2.9.0.post0)\nRequirement already satisfied: threadpoolctl>=2.0.0 in /opt/conda/lib/python3.10/site-packages (from scikit-learn>=0.22->lightautoml) (3.2.0)\nRequirement already satisfied: patsy>=0.5.2 in /opt/conda/lib/python3.10/site-packages (from statsmodels<=0.14.0->lightautoml) (0.5.6)\nRequirement already satisfied: packaging>=21.3 in /opt/conda/lib/python3.10/site-packages (from statsmodels<=0.14.0->lightautoml) (21.3)\nRequirement already satisfied: filelock in /opt/conda/lib/python3.10/site-packages (from torch<=2.0.0,>=1.9.0->lightautoml) (3.13.1)\nRequirement already satisfied: typing-extensions in /opt/conda/lib/python3.10/site-packages (from torch<=2.0.0,>=1.9.0->lightautoml) (4.9.0)\nRequirement already satisfied: sympy in /opt/conda/lib/python3.10/site-packages (from torch<=2.0.0,>=1.9.0->lightautoml) (1.12)\nCollecting nvidia-cuda-nvrtc-cu11==11.7.99 (from torch<=2.0.0,>=1.9.0->lightautoml)\n  Downloading nvidia_cuda_nvrtc_cu11-11.7.99-2-py3-none-manylinux1_x86_64.whl.metadata (1.5 kB)\nCollecting nvidia-cuda-runtime-cu11==11.7.99 (from torch<=2.0.0,>=1.9.0->lightautoml)\n  Downloading nvidia_cuda_runtime_cu11-11.7.99-py3-none-manylinux1_x86_64.whl.metadata (1.6 kB)\nCollecting nvidia-cuda-cupti-cu11==11.7.101 (from torch<=2.0.0,>=1.9.0->lightautoml)\n  Downloading nvidia_cuda_cupti_cu11-11.7.101-py3-none-manylinux1_x86_64.whl.metadata (1.6 kB)\nCollecting nvidia-cudnn-cu11==8.5.0.96 (from torch<=2.0.0,>=1.9.0->lightautoml)\n  Downloading nvidia_cudnn_cu11-8.5.0.96-2-py3-none-manylinux1_x86_64.whl.metadata (1.6 kB)\nCollecting nvidia-cublas-cu11==11.10.3.66 (from torch<=2.0.0,>=1.9.0->lightautoml)\n  Downloading nvidia_cublas_cu11-11.10.3.66-py3-none-manylinux1_x86_64.whl.metadata (1.6 kB)\nCollecting nvidia-cufft-cu11==10.9.0.58 (from torch<=2.0.0,>=1.9.0->lightautoml)\n  Downloading nvidia_cufft_cu11-10.9.0.58-py3-none-manylinux1_x86_64.whl.metadata (1.5 kB)\nCollecting nvidia-curand-cu11==10.2.10.91 (from torch<=2.0.0,>=1.9.0->lightautoml)\n  Downloading nvidia_curand_cu11-10.2.10.91-py3-none-manylinux1_x86_64.whl.metadata (1.6 kB)\nCollecting nvidia-cusolver-cu11==11.4.0.1 (from torch<=2.0.0,>=1.9.0->lightautoml)\n  Downloading nvidia_cusolver_cu11-11.4.0.1-2-py3-none-manylinux1_x86_64.whl.metadata (1.6 kB)\nCollecting nvidia-cusparse-cu11==11.7.4.91 (from torch<=2.0.0,>=1.9.0->lightautoml)\n  Downloading nvidia_cusparse_cu11-11.7.4.91-py3-none-manylinux1_x86_64.whl.metadata (1.6 kB)\nCollecting nvidia-nccl-cu11==2.14.3 (from torch<=2.0.0,>=1.9.0->lightautoml)\n  Downloading nvidia_nccl_cu11-2.14.3-py3-none-manylinux1_x86_64.whl.metadata (1.8 kB)\nCollecting nvidia-nvtx-cu11==11.7.91 (from torch<=2.0.0,>=1.9.0->lightautoml)\n  Downloading nvidia_nvtx_cu11-11.7.91-py3-none-manylinux1_x86_64.whl.metadata (1.7 kB)\nCollecting triton==2.0.0 (from torch<=2.0.0,>=1.9.0->lightautoml)\n  Downloading triton-2.0.0-1-cp310-cp310-manylinux2014_x86_64.manylinux_2_17_x86_64.whl.metadata (1.0 kB)\nRequirement already satisfied: setuptools in /opt/conda/lib/python3.10/site-packages (from nvidia-cublas-cu11==11.10.3.66->torch<=2.0.0,>=1.9.0->lightautoml) (69.0.3)\nCollecting cmake (from triton==2.0.0->torch<=2.0.0,>=1.9.0->lightautoml)\n  Downloading cmake-3.29.2-py3-none-manylinux_2_17_x86_64.manylinux2014_x86_64.whl.metadata (6.1 kB)\nCollecting lit (from triton==2.0.0->torch<=2.0.0,>=1.9.0->lightautoml)\n  Downloading lit-18.1.4-py3-none-any.whl.metadata (2.5 kB)\nRequirement already satisfied: hijri-converter in /opt/conda/lib/python3.10/site-packages (from holidays->lightautoml) (2.3.1)\nRequirement already satisfied: korean-lunar-calendar in /opt/conda/lib/python3.10/site-packages (from holidays->lightautoml) (0.3.1)\nRequirement already satisfied: MarkupSafe>=2.0 in /opt/conda/lib/python3.10/site-packages (from jinja2->lightautoml) (2.1.3)\nRequirement already satisfied: alembic>=1.5.0 in /opt/conda/lib/python3.10/site-packages (from optuna->lightautoml) (1.13.1)\nRequirement already satisfied: colorlog in /opt/conda/lib/python3.10/site-packages (from optuna->lightautoml) (6.8.2)\nRequirement already satisfied: sqlalchemy>=1.3.0 in /opt/conda/lib/python3.10/site-packages (from optuna->lightautoml) (2.0.25)\nRequirement already satisfied: Mako in /opt/conda/lib/python3.10/site-packages (from alembic>=1.5.0->optuna->lightautoml) (1.3.3)\nRequirement already satisfied: contourpy>=1.0.1 in /opt/conda/lib/python3.10/site-packages (from matplotlib->autowoe>=1.2->lightautoml) (1.2.0)\nRequirement already satisfied: cycler>=0.10 in /opt/conda/lib/python3.10/site-packages (from matplotlib->autowoe>=1.2->lightautoml) (0.12.1)\nRequirement already satisfied: fonttools>=4.22.0 in /opt/conda/lib/python3.10/site-packages (from matplotlib->autowoe>=1.2->lightautoml) (4.47.0)\nRequirement already satisfied: kiwisolver>=1.0.1 in /opt/conda/lib/python3.10/site-packages (from matplotlib->autowoe>=1.2->lightautoml) (1.4.5)\nRequirement already satisfied: pillow>=6.2.0 in /opt/conda/lib/python3.10/site-packages (from matplotlib->autowoe>=1.2->lightautoml) (9.5.0)\nRequirement already satisfied: pyparsing>=2.3.1 in /opt/conda/lib/python3.10/site-packages (from matplotlib->autowoe>=1.2->lightautoml) (3.1.1)\nRequirement already satisfied: greenlet!=0.4.17 in /opt/conda/lib/python3.10/site-packages (from sqlalchemy>=1.3.0->optuna->lightautoml) (3.0.3)\nRequirement already satisfied: tenacity>=6.2.0 in /opt/conda/lib/python3.10/site-packages (from plotly->catboost>=0.26.1->lightautoml) (8.2.3)\nRequirement already satisfied: iniconfig in /opt/conda/lib/python3.10/site-packages (from pytest->autowoe>=1.2->lightautoml) (2.0.0)\nRequirement already satisfied: pluggy<2.0,>=1.4 in /opt/conda/lib/python3.10/site-packages (from pytest->autowoe>=1.2->lightautoml) (1.4.0)\nRequirement already satisfied: exceptiongroup>=1.0.0rc8 in /opt/conda/lib/python3.10/site-packages (from pytest->autowoe>=1.2->lightautoml) (1.2.0)\nRequirement already satisfied: tomli>=1 in /opt/conda/lib/python3.10/site-packages (from pytest->autowoe>=1.2->lightautoml) (2.0.1)\nCollecting sphinxcontrib-applehelp (from sphinx->autowoe>=1.2->lightautoml)\n  Downloading sphinxcontrib_applehelp-1.0.8-py3-none-any.whl.metadata (2.3 kB)\nCollecting sphinxcontrib-devhelp (from sphinx->autowoe>=1.2->lightautoml)\n  Downloading sphinxcontrib_devhelp-1.0.6-py3-none-any.whl.metadata (2.3 kB)\nCollecting sphinxcontrib-jsmath (from sphinx->autowoe>=1.2->lightautoml)\n  Downloading sphinxcontrib_jsmath-1.0.1-py2.py3-none-any.whl.metadata (1.4 kB)\nCollecting sphinxcontrib-htmlhelp>=2.0.0 (from sphinx->autowoe>=1.2->lightautoml)\n  Downloading sphinxcontrib_htmlhelp-2.0.5-py3-none-any.whl.metadata (2.3 kB)\nCollecting sphinxcontrib-serializinghtml>=1.1.9 (from sphinx->autowoe>=1.2->lightautoml)\n  Downloading sphinxcontrib_serializinghtml-1.1.10-py3-none-any.whl.metadata (2.4 kB)\nCollecting sphinxcontrib-qthelp (from sphinx->autowoe>=1.2->lightautoml)\n  Downloading sphinxcontrib_qthelp-1.0.7-py3-none-any.whl.metadata (2.2 kB)\nRequirement already satisfied: Pygments>=2.14 in /opt/conda/lib/python3.10/site-packages (from sphinx->autowoe>=1.2->lightautoml) (2.17.2)\nRequirement already satisfied: docutils<0.22,>=0.18.1 in /opt/conda/lib/python3.10/site-packages (from sphinx->autowoe>=1.2->lightautoml) (0.21.1)\nRequirement already satisfied: snowballstemmer>=2.0 in /opt/conda/lib/python3.10/site-packages (from sphinx->autowoe>=1.2->lightautoml) (2.2.0)\nRequirement already satisfied: babel>=2.9 in /opt/conda/lib/python3.10/site-packages (from sphinx->autowoe>=1.2->lightautoml) (2.14.0)\nCollecting alabaster~=0.7.14 (from sphinx->autowoe>=1.2->lightautoml)\n  Downloading alabaster-0.7.16-py3-none-any.whl.metadata (2.9 kB)\nCollecting imagesize>=1.3 (from sphinx->autowoe>=1.2->lightautoml)\n  Downloading imagesize-1.4.1-py2.py3-none-any.whl.metadata (1.5 kB)\nRequirement already satisfied: requests>=2.25.0 in /opt/conda/lib/python3.10/site-packages (from sphinx->autowoe>=1.2->lightautoml) (2.31.0)\nRequirement already satisfied: mpmath>=0.19 in /opt/conda/lib/python3.10/site-packages (from sympy->torch<=2.0.0,>=1.9.0->lightautoml) (1.3.0)\nRequirement already satisfied: charset-normalizer<4,>=2 in /opt/conda/lib/python3.10/site-packages (from requests>=2.25.0->sphinx->autowoe>=1.2->lightautoml) (3.3.2)\nRequirement already satisfied: idna<4,>=2.5 in /opt/conda/lib/python3.10/site-packages (from requests>=2.25.0->sphinx->autowoe>=1.2->lightautoml) (3.6)\nRequirement already satisfied: urllib3<3,>=1.21.1 in /opt/conda/lib/python3.10/site-packages (from requests>=2.25.0->sphinx->autowoe>=1.2->lightautoml) (1.26.18)\nRequirement already satisfied: certifi>=2017.4.17 in /opt/conda/lib/python3.10/site-packages (from requests>=2.25.0->sphinx->autowoe>=1.2->lightautoml) (2024.2.2)\nDownloading lightautoml-0.3.8.1-py3-none-any.whl (416 kB)\n\u001b[2K   \u001b[90m━━━━━━━━━━━━━━━━━━━━━━━━━━━━━━━━━━━━━━━━\u001b[0m \u001b[32m416.4/416.4 kB\u001b[0m \u001b[31m6.5 MB/s\u001b[0m eta \u001b[36m0:00:00\u001b[0mta \u001b[36m0:00:01\u001b[0m\n\u001b[?25hDownloading AutoWoE-1.3.2-py3-none-any.whl (215 kB)\n\u001b[2K   \u001b[90m━━━━━━━━━━━━━━━━━━━━━━━━━━━━━━━━━━━━━━━━\u001b[0m \u001b[32m215.7/215.7 kB\u001b[0m \u001b[31m11.6 MB/s\u001b[0m eta \u001b[36m0:00:00\u001b[0m\n\u001b[?25hDownloading joblib-1.2.0-py3-none-any.whl (297 kB)\n\u001b[2K   \u001b[90m━━━━━━━━━━━━━━━━━━━━━━━━━━━━━━━━━━━━━━━━\u001b[0m \u001b[32m298.0/298.0 kB\u001b[0m \u001b[31m16.1 MB/s\u001b[0m eta \u001b[36m0:00:00\u001b[0m\n\u001b[?25hDownloading lightgbm-3.2.1-py3-none-manylinux1_x86_64.whl (2.0 MB)\n\u001b[2K   \u001b[90m━━━━━━━━━━━━━━━━━━━━━━━━━━━━━━━━━━━━━━━━\u001b[0m \u001b[32m2.0/2.0 MB\u001b[0m \u001b[31m37.4 MB/s\u001b[0m eta \u001b[36m0:00:00\u001b[0m00:01\u001b[0m\n\u001b[?25hDownloading pandas-1.5.3-cp310-cp310-manylinux_2_17_x86_64.manylinux2014_x86_64.whl (12.1 MB)\n\u001b[2K   \u001b[90m━━━━━━━━━━━━━━━━━━━━━━━━━━━━━━━━━━━━━━━━\u001b[0m \u001b[32m12.1/12.1 MB\u001b[0m \u001b[31m65.8 MB/s\u001b[0m eta \u001b[36m0:00:00\u001b[0m:00:01\u001b[0m0:01\u001b[0m\n\u001b[?25hDownloading poetry_core-1.9.0-py3-none-any.whl (309 kB)\n\u001b[2K   \u001b[90m━━━━━━━━━━━━━━━━━━━━━━━━━━━━━━━━━━━━━━━━\u001b[0m \u001b[32m309.5/309.5 kB\u001b[0m \u001b[31m16.0 MB/s\u001b[0m eta \u001b[36m0:00:00\u001b[0m\n\u001b[?25hDownloading statsmodels-0.14.0-cp310-cp310-manylinux_2_17_x86_64.manylinux2014_x86_64.whl (10.1 MB)\n\u001b[2K   \u001b[90m━━━━━━━━━━━━━━━━━━━━━━━━━━━━━━━━━━━━━━━━\u001b[0m \u001b[32m10.1/10.1 MB\u001b[0m \u001b[31m62.9 MB/s\u001b[0m eta \u001b[36m0:00:00\u001b[0m:00:01\u001b[0m0:01\u001b[0m\n\u001b[?25hDownloading torch-2.0.0-cp310-cp310-manylinux1_x86_64.whl (619.9 MB)\n\u001b[2K   \u001b[90m━━━━━━━━━━━━━━━━━━━━━━━━━━━━━━━━━━━━━━━━\u001b[0m \u001b[32m619.9/619.9 MB\u001b[0m \u001b[31m2.4 MB/s\u001b[0m eta \u001b[36m0:00:00\u001b[0m:00:01\u001b[0m00:01\u001b[0m\n\u001b[?25hDownloading nvidia_cublas_cu11-11.10.3.66-py3-none-manylinux1_x86_64.whl (317.1 MB)\n\u001b[2K   \u001b[90m━━━━━━━━━━━━━━━━━━━━━━━━━━━━━━━━━━━━━━━━\u001b[0m \u001b[32m317.1/317.1 MB\u001b[0m \u001b[31m4.6 MB/s\u001b[0m eta \u001b[36m0:00:00\u001b[0m:00:01\u001b[0m00:01\u001b[0m\n\u001b[?25hDownloading nvidia_cuda_cupti_cu11-11.7.101-py3-none-manylinux1_x86_64.whl (11.8 MB)\n\u001b[2K   \u001b[90m━━━━━━━━━━━━━━━━━━━━━━━━━━━━━━━━━━━━━━━━\u001b[0m \u001b[32m11.8/11.8 MB\u001b[0m \u001b[31m35.9 MB/s\u001b[0m eta \u001b[36m0:00:00\u001b[0m00:01\u001b[0m00:01\u001b[0m\n\u001b[?25hDownloading nvidia_cuda_nvrtc_cu11-11.7.99-2-py3-none-manylinux1_x86_64.whl (21.0 MB)\n\u001b[2K   \u001b[90m━━━━━━━━━━━━━━━━━━━━━━━━━━━━━━━━━━━━━━━━\u001b[0m \u001b[32m21.0/21.0 MB\u001b[0m \u001b[31m32.9 MB/s\u001b[0m eta \u001b[36m0:00:00\u001b[0m:00:01\u001b[0m00:01\u001b[0m\n\u001b[?25hDownloading nvidia_cuda_runtime_cu11-11.7.99-py3-none-manylinux1_x86_64.whl (849 kB)\n\u001b[2K   \u001b[90m━━━━━━━━━━━━━━━━━━━━━━━━━━━━━━━━━━━━━━━━\u001b[0m \u001b[32m849.3/849.3 kB\u001b[0m \u001b[31m8.0 MB/s\u001b[0m eta \u001b[36m0:00:00\u001b[0m:00:01\u001b[0m\n\u001b[?25hDownloading nvidia_cudnn_cu11-8.5.0.96-2-py3-none-manylinux1_x86_64.whl (557.1 MB)\n\u001b[2K   \u001b[90m━━━━━━━━━━━━━━━━━━━━━━━━━━━━━━━━━━━━━━━━\u001b[0m \u001b[32m557.1/557.1 MB\u001b[0m \u001b[31m1.3 MB/s\u001b[0m eta \u001b[36m0:00:00\u001b[0m:00:01\u001b[0m00:01\u001b[0m\n\u001b[?25hDownloading nvidia_cufft_cu11-10.9.0.58-py3-none-manylinux1_x86_64.whl (168.4 MB)\n\u001b[2K   \u001b[90m━━━━━━━━━━━━━━━━━━━━━━━━━━━━━━━━━━━━━━━━\u001b[0m \u001b[32m168.4/168.4 MB\u001b[0m \u001b[31m2.6 MB/s\u001b[0m eta \u001b[36m0:00:00\u001b[0m:00:01\u001b[0m00:01\u001b[0m\n\u001b[?25hDownloading nvidia_curand_cu11-10.2.10.91-py3-none-manylinux1_x86_64.whl (54.6 MB)\n\u001b[2K   \u001b[90m━━━━━━━━━━━━━━━━━━━━━━━━━━━━━━━━━━━━━━━━\u001b[0m \u001b[32m54.6/54.6 MB\u001b[0m \u001b[31m20.7 MB/s\u001b[0m eta \u001b[36m0:00:00\u001b[0m:00:01\u001b[0m00:01\u001b[0m\n\u001b[?25hDownloading nvidia_cusolver_cu11-11.4.0.1-2-py3-none-manylinux1_x86_64.whl (102.6 MB)\n\u001b[2K   \u001b[90m━━━━━━━━━━━━━━━━━━━━━━━━━━━━━━━━━━━━━━━━\u001b[0m \u001b[32m102.6/102.6 MB\u001b[0m \u001b[31m14.5 MB/s\u001b[0m eta \u001b[36m0:00:00\u001b[0m00:01\u001b[0m00:01\u001b[0m\n\u001b[?25hDownloading nvidia_cusparse_cu11-11.7.4.91-py3-none-manylinux1_x86_64.whl (173.2 MB)\n\u001b[2K   \u001b[90m━━━━━━━━━━━━━━━━━━━━━━━━━━━━━━━━━━━━━━━━\u001b[0m \u001b[32m173.2/173.2 MB\u001b[0m \u001b[31m8.4 MB/s\u001b[0m eta \u001b[36m0:00:00\u001b[0m:00:01\u001b[0m00:01\u001b[0m\n\u001b[?25hDownloading nvidia_nccl_cu11-2.14.3-py3-none-manylinux1_x86_64.whl (177.1 MB)\n\u001b[2K   \u001b[90m━━━━━━━━━━━━━━━━━━━━━━━━━━━━━━━━━━━━━━━━\u001b[0m \u001b[32m177.1/177.1 MB\u001b[0m \u001b[31m8.1 MB/s\u001b[0m eta \u001b[36m0:00:00\u001b[0m:00:01\u001b[0m00:01\u001b[0m\n\u001b[?25hDownloading nvidia_nvtx_cu11-11.7.91-py3-none-manylinux1_x86_64.whl (98 kB)\n\u001b[2K   \u001b[90m━━━━━━━━━━━━━━━━━━━━━━━━━━━━━━━━━━━━━━━━\u001b[0m \u001b[32m98.6/98.6 kB\u001b[0m \u001b[31m4.5 MB/s\u001b[0m eta \u001b[36m0:00:00\u001b[0m\n\u001b[?25hDownloading triton-2.0.0-1-cp310-cp310-manylinux2014_x86_64.manylinux_2_17_x86_64.whl (63.3 MB)\n\u001b[2K   \u001b[90m━━━━━━━━━━━━━━━━━━━━━━━━━━━━━━━━━━━━━━━━\u001b[0m \u001b[32m63.3/63.3 MB\u001b[0m \u001b[31m22.6 MB/s\u001b[0m eta \u001b[36m0:00:00\u001b[0m:00:01\u001b[0m00:01\u001b[0m\n\u001b[?25hDownloading cmaes-0.10.0-py3-none-any.whl (29 kB)\nDownloading StrEnum-0.4.15-py3-none-any.whl (8.9 kB)\nDownloading sphinx-7.3.7-py3-none-any.whl (3.3 MB)\n\u001b[2K   \u001b[90m━━━━━━━━━━━━━━━━━━━━━━━━━━━━━━━━━━━━━━━━\u001b[0m \u001b[32m3.3/3.3 MB\u001b[0m \u001b[31m60.6 MB/s\u001b[0m eta \u001b[36m0:00:00\u001b[0m:00:01\u001b[0m\n\u001b[?25hDownloading alabaster-0.7.16-py3-none-any.whl (13 kB)\nDownloading imagesize-1.4.1-py2.py3-none-any.whl (8.8 kB)\nDownloading sphinxcontrib_htmlhelp-2.0.5-py3-none-any.whl (99 kB)\n\u001b[2K   \u001b[90m━━━━━━━━━━━━━━━━━━━━━━━━━━━━━━━━━━━━━━━━\u001b[0m \u001b[32m99.2/99.2 kB\u001b[0m \u001b[31m4.7 MB/s\u001b[0m eta \u001b[36m0:00:00\u001b[0m\n\u001b[?25hDownloading sphinxcontrib_serializinghtml-1.1.10-py3-none-any.whl (92 kB)\n\u001b[2K   \u001b[90m━━━━━━━━━━━━━━━━━━━━━━━━━━━━━━━━━━━━━━━━\u001b[0m \u001b[32m92.7/92.7 kB\u001b[0m \u001b[31m4.7 MB/s\u001b[0m eta \u001b[36m0:00:00\u001b[0m\n\u001b[?25hDownloading cmake-3.29.2-py3-none-manylinux_2_17_x86_64.manylinux2014_x86_64.whl (26.7 MB)\n\u001b[2K   \u001b[90m━━━━━━━━━━━━━━━━━━━━━━━━━━━━━━━━━━━━━━━━\u001b[0m \u001b[32m26.7/26.7 MB\u001b[0m \u001b[31m47.8 MB/s\u001b[0m eta \u001b[36m0:00:00\u001b[0m:00:01\u001b[0m0:01\u001b[0mm\n\u001b[?25hDownloading lit-18.1.4-py3-none-any.whl (96 kB)\n\u001b[2K   \u001b[90m━━━━━━━━━━━━━━━━━━━━━━━━━━━━━━━━━━━━━━━━\u001b[0m \u001b[32m96.4/96.4 kB\u001b[0m \u001b[31m5.3 MB/s\u001b[0m eta \u001b[36m0:00:00\u001b[0m\n\u001b[?25hDownloading sphinxcontrib_applehelp-1.0.8-py3-none-any.whl (120 kB)\n\u001b[2K   \u001b[90m━━━━━━━━━━━━━━━━━━━━━━━━━━━━━━━━━━━━━━━━\u001b[0m \u001b[32m120.0/120.0 kB\u001b[0m \u001b[31m6.3 MB/s\u001b[0m eta \u001b[36m0:00:00\u001b[0m\n\u001b[?25hDownloading sphinxcontrib_devhelp-1.0.6-py3-none-any.whl (83 kB)\n\u001b[2K   \u001b[90m━━━━━━━━━━━━━━━━━━━━━━━━━━━━━━━━━━━━━━━━\u001b[0m \u001b[32m83.5/83.5 kB\u001b[0m \u001b[31m3.9 MB/s\u001b[0m eta \u001b[36m0:00:00\u001b[0m\n\u001b[?25hDownloading sphinxcontrib_jsmath-1.0.1-py2.py3-none-any.whl (5.1 kB)\nDownloading sphinxcontrib_qthelp-1.0.7-py3-none-any.whl (89 kB)\n\u001b[2K   \u001b[90m━━━━━━━━━━━━━━━━━━━━━━━━━━━━━━━━━━━━━━━━\u001b[0m \u001b[32m89.4/89.4 kB\u001b[0m \u001b[31m5.0 MB/s\u001b[0m eta \u001b[36m0:00:00\u001b[0m\n\u001b[?25hBuilding wheels for collected packages: json2html\n  Building wheel for json2html (setup.py) ... \u001b[?25ldone\n\u001b[?25h  Created wheel for json2html: filename=json2html-1.3.0-py3-none-any.whl size=7593 sha256=a9865b7496132fc636321518f09f1d7b8fa61187f68c0f2aa8e6831e2a0b0bbc\n  Stored in directory: /root/.cache/pip/wheels/e0/d8/b3/6f83a04ab0ec00e691de794d108286bb0f8bcdf4ade19afb57\nSuccessfully built json2html\nInstalling collected packages: StrEnum, lit, json2html, sphinxcontrib-serializinghtml, sphinxcontrib-qthelp, sphinxcontrib-jsmath, sphinxcontrib-htmlhelp, sphinxcontrib-devhelp, sphinxcontrib-applehelp, poetry-core, nvidia-nvtx-cu11, nvidia-nccl-cu11, nvidia-cusparse-cu11, nvidia-curand-cu11, nvidia-cufft-cu11, nvidia-cuda-runtime-cu11, nvidia-cuda-nvrtc-cu11, nvidia-cuda-cupti-cu11, nvidia-cublas-cu11, joblib, imagesize, cmake, cmaes, alabaster, sphinx, pandas, nvidia-cusolver-cu11, nvidia-cudnn-cu11, statsmodels, lightgbm, autowoe, triton, torch, lightautoml\n  Attempting uninstall: joblib\n    Found existing installation: joblib 1.4.0\n    Uninstalling joblib-1.4.0:\n      Successfully uninstalled joblib-1.4.0\n  Attempting uninstall: pandas\n    Found existing installation: pandas 2.2.2\n    Uninstalling pandas-2.2.2:\n      Successfully uninstalled pandas-2.2.2\n  Attempting uninstall: statsmodels\n    Found existing installation: statsmodels 0.14.1\n    Uninstalling statsmodels-0.14.1:\n      Successfully uninstalled statsmodels-0.14.1\n  Attempting uninstall: lightgbm\n    Found existing installation: lightgbm 4.2.0\n    Uninstalling lightgbm-4.2.0:\n      Successfully uninstalled lightgbm-4.2.0\n  Attempting uninstall: torch\n    Found existing installation: torch 2.1.2+cpu\n    Uninstalling torch-2.1.2+cpu:\n      Successfully uninstalled torch-2.1.2+cpu\n\u001b[31mERROR: pip's dependency resolver does not currently take into account all the packages that are installed. This behaviour is the source of the following dependency conflicts.\ntensorflow-decision-forests 1.8.1 requires wurlitzer, which is not installed.\nbeatrix-jupyterlab 2023.128.151533 requires jupyterlab~=3.6.0, but you have jupyterlab 4.1.6 which is incompatible.\ndask-expr 1.0.11 requires pandas>=2, but you have pandas 1.5.3 which is incompatible.\nfeaturetools 1.30.0 requires pandas>=2.0.0, but you have pandas 1.5.3 which is incompatible.\nfitter 1.7.0 requires joblib<2.0.0,>=1.3.1, but you have joblib 1.2.0 which is incompatible.\nlibpysal 4.9.2 requires packaging>=22, but you have packaging 21.3 which is incompatible.\nlibpysal 4.9.2 requires shapely>=2.0.1, but you have shapely 1.8.5.post1 which is incompatible.\nmizani 0.11.1 requires pandas>=2.1.0, but you have pandas 1.5.3 which is incompatible.\nmomepy 0.7.0 requires shapely>=2, but you have shapely 1.8.5.post1 which is incompatible.\nosmnx 1.9.2 requires shapely>=2.0, but you have shapely 1.8.5.post1 which is incompatible.\nplotnine 0.13.4 requires pandas<3.0.0,>=2.1.0, but you have pandas 1.5.3 which is incompatible.\npyldavis 3.4.1 requires pandas>=2.0.0, but you have pandas 1.5.3 which is incompatible.\nspopt 0.6.0 requires shapely>=2.0.1, but you have shapely 1.8.5.post1 which is incompatible.\ntorchaudio 2.1.2+cpu requires torch==2.1.2, but you have torch 2.0.0 which is incompatible.\ntorchtext 0.16.2+cpu requires torch==2.1.2, but you have torch 2.0.0 which is incompatible.\ntorchvision 0.16.2+cpu requires torch==2.1.2, but you have torch 2.0.0 which is incompatible.\nwoodwork 0.30.0 requires pandas>=2.0.0, but you have pandas 1.5.3 which is incompatible.\nxarray 2024.3.0 requires packaging>=22, but you have packaging 21.3 which is incompatible.\nydata-profiling 4.6.4 requires numpy<1.26,>=1.16.0, but you have numpy 1.26.4 which is incompatible.\u001b[0m\u001b[31m\n\u001b[0mSuccessfully installed StrEnum-0.4.15 alabaster-0.7.16 autowoe-1.3.2 cmaes-0.10.0 cmake-3.29.2 imagesize-1.4.1 joblib-1.2.0 json2html-1.3.0 lightautoml-0.3.8.1 lightgbm-3.2.1 lit-18.1.4 nvidia-cublas-cu11-11.10.3.66 nvidia-cuda-cupti-cu11-11.7.101 nvidia-cuda-nvrtc-cu11-11.7.99 nvidia-cuda-runtime-cu11-11.7.99 nvidia-cudnn-cu11-8.5.0.96 nvidia-cufft-cu11-10.9.0.58 nvidia-curand-cu11-10.2.10.91 nvidia-cusolver-cu11-11.4.0.1 nvidia-cusparse-cu11-11.7.4.91 nvidia-nccl-cu11-2.14.3 nvidia-nvtx-cu11-11.7.91 pandas-1.5.3 poetry-core-1.9.0 sphinx-7.3.7 sphinxcontrib-applehelp-1.0.8 sphinxcontrib-devhelp-1.0.6 sphinxcontrib-htmlhelp-2.0.5 sphinxcontrib-jsmath-1.0.1 sphinxcontrib-qthelp-1.0.7 sphinxcontrib-serializinghtml-1.1.10 statsmodels-0.14.0 torch-2.0.0 triton-2.0.0\n",
          "output_type": "stream"
        }
      ]
    },
    {
      "cell_type": "code",
      "source": [
        "import pandas as pd\n",
        "import numpy as np\n",
        "\n",
        "\n",
        "from sklearn.model_selection import train_test_split\n",
        "from lightautoml.automl.presets.tabular_presets import TabularAutoML, TabularUtilizedAutoML\n",
        "from lightautoml.tasks import Task\n",
        "from lightautoml.report.report_deco import ReportDeco\n",
        "from sklearn.metrics import r2_score"
      ],
      "metadata": {
        "execution": {
          "iopub.status.busy": "2024-05-10T18:27:25.99169Z",
          "iopub.execute_input": "2024-05-10T18:27:25.9921Z",
          "iopub.status.idle": "2024-05-10T18:28:11.83809Z",
          "shell.execute_reply.started": "2024-05-10T18:27:25.992058Z",
          "shell.execute_reply": "2024-05-10T18:28:11.836598Z"
        },
        "trusted": true,
        "id": "aFZ7j4FdQAEL"
      },
      "execution_count": null,
      "outputs": []
    },
    {
      "cell_type": "code",
      "source": [
        "train_csv = pd.read_csv(\"/kaggle/input/playground-series-s4e5/train.csv\")\n",
        "test_csv = pd.read_csv(\"/kaggle/input/playground-series-s4e5/test.csv\")"
      ],
      "metadata": {
        "execution": {
          "iopub.status.busy": "2024-05-10T18:28:11.840507Z",
          "iopub.execute_input": "2024-05-10T18:28:11.841745Z",
          "iopub.status.idle": "2024-05-10T18:28:16.220754Z",
          "shell.execute_reply.started": "2024-05-10T18:28:11.841695Z",
          "shell.execute_reply": "2024-05-10T18:28:16.21955Z"
        },
        "trusted": true,
        "id": "Ul10s1MfQAEM"
      },
      "execution_count": null,
      "outputs": []
    },
    {
      "cell_type": "code",
      "source": [
        "train_csv.head()"
      ],
      "metadata": {
        "execution": {
          "iopub.status.busy": "2024-05-10T18:28:16.223475Z",
          "iopub.execute_input": "2024-05-10T18:28:16.223856Z",
          "iopub.status.idle": "2024-05-10T18:28:16.25952Z",
          "shell.execute_reply.started": "2024-05-10T18:28:16.223822Z",
          "shell.execute_reply": "2024-05-10T18:28:16.258456Z"
        },
        "trusted": true,
        "id": "7MZy71NbQAEM",
        "outputId": "f40b41d8-fdde-4743-c20b-689afc59d66a"
      },
      "execution_count": null,
      "outputs": [
        {
          "name": "stderr",
          "text": "/opt/conda/lib/python3.10/site-packages/IPython/core/formatters.py:344: FutureWarning: Index.format is deprecated and will be removed in a future version. Convert using index.astype(str) or index.map(formatter) instead.\n  return method()\n/opt/conda/lib/python3.10/site-packages/IPython/core/formatters.py:344: FutureWarning: RangeIndex.format is deprecated and will be removed in a future version. Convert using index.astype(str) or index.map(formatter) instead.\n  return method()\n",
          "output_type": "stream"
        },
        {
          "execution_count": 6,
          "output_type": "execute_result",
          "data": {
            "text/plain": "   id  MonsoonIntensity  TopographyDrainage  RiverManagement  Deforestation   \n0   0                 5                   8                5              8  \\\n1   1                 6                   7                4              4   \n2   2                 6                   5                6              7   \n3   3                 3                   4                6              5   \n4   4                 5                   3                2              6   \n\n   Urbanization  ClimateChange  DamsQuality  Siltation  AgriculturalPractices   \n0             6              4            4          3                      3  \\\n1             8              8            3          5                      4   \n2             3              7            1          5                      4   \n3             4              8            4          7                      6   \n4             4              4            3          3                      3   \n\n   ...  DrainageSystems  CoastalVulnerability  Landslides  Watersheds   \n0  ...                5                     3           3           5  \\\n1  ...                7                     2           0           3   \n2  ...                7                     3           7           5   \n3  ...                2                     4           7           4   \n4  ...                2                     2           6           6   \n\n   DeterioratingInfrastructure  PopulationScore  WetlandLoss   \n0                            4                7            5  \\\n1                            5                3            3   \n2                            6                8            2   \n3                            4                6            5   \n4                            4                1            2   \n\n   InadequatePlanning  PoliticalFactors  FloodProbability  \n0                   7                 3             0.445  \n1                   4                 3             0.450  \n2                   3                 3             0.530  \n3                   7                 5             0.535  \n4                   3                 5             0.415  \n\n[5 rows x 22 columns]",
            "text/html": "<div>\n<style scoped>\n    .dataframe tbody tr th:only-of-type {\n        vertical-align: middle;\n    }\n\n    .dataframe tbody tr th {\n        vertical-align: top;\n    }\n\n    .dataframe thead th {\n        text-align: right;\n    }\n</style>\n<table border=\"1\" class=\"dataframe\">\n  <thead>\n    <tr style=\"text-align: right;\">\n      <th></th>\n      <th>id</th>\n      <th>MonsoonIntensity</th>\n      <th>TopographyDrainage</th>\n      <th>RiverManagement</th>\n      <th>Deforestation</th>\n      <th>Urbanization</th>\n      <th>ClimateChange</th>\n      <th>DamsQuality</th>\n      <th>Siltation</th>\n      <th>AgriculturalPractices</th>\n      <th>...</th>\n      <th>DrainageSystems</th>\n      <th>CoastalVulnerability</th>\n      <th>Landslides</th>\n      <th>Watersheds</th>\n      <th>DeterioratingInfrastructure</th>\n      <th>PopulationScore</th>\n      <th>WetlandLoss</th>\n      <th>InadequatePlanning</th>\n      <th>PoliticalFactors</th>\n      <th>FloodProbability</th>\n    </tr>\n  </thead>\n  <tbody>\n    <tr>\n      <th>0</th>\n      <td>0</td>\n      <td>5</td>\n      <td>8</td>\n      <td>5</td>\n      <td>8</td>\n      <td>6</td>\n      <td>4</td>\n      <td>4</td>\n      <td>3</td>\n      <td>3</td>\n      <td>...</td>\n      <td>5</td>\n      <td>3</td>\n      <td>3</td>\n      <td>5</td>\n      <td>4</td>\n      <td>7</td>\n      <td>5</td>\n      <td>7</td>\n      <td>3</td>\n      <td>0.445</td>\n    </tr>\n    <tr>\n      <th>1</th>\n      <td>1</td>\n      <td>6</td>\n      <td>7</td>\n      <td>4</td>\n      <td>4</td>\n      <td>8</td>\n      <td>8</td>\n      <td>3</td>\n      <td>5</td>\n      <td>4</td>\n      <td>...</td>\n      <td>7</td>\n      <td>2</td>\n      <td>0</td>\n      <td>3</td>\n      <td>5</td>\n      <td>3</td>\n      <td>3</td>\n      <td>4</td>\n      <td>3</td>\n      <td>0.450</td>\n    </tr>\n    <tr>\n      <th>2</th>\n      <td>2</td>\n      <td>6</td>\n      <td>5</td>\n      <td>6</td>\n      <td>7</td>\n      <td>3</td>\n      <td>7</td>\n      <td>1</td>\n      <td>5</td>\n      <td>4</td>\n      <td>...</td>\n      <td>7</td>\n      <td>3</td>\n      <td>7</td>\n      <td>5</td>\n      <td>6</td>\n      <td>8</td>\n      <td>2</td>\n      <td>3</td>\n      <td>3</td>\n      <td>0.530</td>\n    </tr>\n    <tr>\n      <th>3</th>\n      <td>3</td>\n      <td>3</td>\n      <td>4</td>\n      <td>6</td>\n      <td>5</td>\n      <td>4</td>\n      <td>8</td>\n      <td>4</td>\n      <td>7</td>\n      <td>6</td>\n      <td>...</td>\n      <td>2</td>\n      <td>4</td>\n      <td>7</td>\n      <td>4</td>\n      <td>4</td>\n      <td>6</td>\n      <td>5</td>\n      <td>7</td>\n      <td>5</td>\n      <td>0.535</td>\n    </tr>\n    <tr>\n      <th>4</th>\n      <td>4</td>\n      <td>5</td>\n      <td>3</td>\n      <td>2</td>\n      <td>6</td>\n      <td>4</td>\n      <td>4</td>\n      <td>3</td>\n      <td>3</td>\n      <td>3</td>\n      <td>...</td>\n      <td>2</td>\n      <td>2</td>\n      <td>6</td>\n      <td>6</td>\n      <td>4</td>\n      <td>1</td>\n      <td>2</td>\n      <td>3</td>\n      <td>5</td>\n      <td>0.415</td>\n    </tr>\n  </tbody>\n</table>\n<p>5 rows × 22 columns</p>\n</div>"
          },
          "metadata": {}
        }
      ]
    },
    {
      "cell_type": "code",
      "source": [
        "Y = train_csv[\"FloodProbability\"]\n",
        "train_csv.drop(columns = [\"FloodProbability\", \"id\"], inplace = True)\n",
        "\n",
        "test_csv = pd.read_csv(\"/kaggle/input/playground-series-s4e5/test.csv\")\n",
        "ids = test_csv[\"id\"]\n",
        "test_csv.drop(columns = [\"id\"], inplace = True)"
      ],
      "metadata": {
        "execution": {
          "iopub.status.busy": "2024-05-10T18:28:16.260797Z",
          "iopub.execute_input": "2024-05-10T18:28:16.261154Z",
          "iopub.status.idle": "2024-05-10T18:28:17.579112Z",
          "shell.execute_reply.started": "2024-05-10T18:28:16.261123Z",
          "shell.execute_reply": "2024-05-10T18:28:17.57811Z"
        },
        "trusted": true,
        "id": "Ie3S6EiOQAEN"
      },
      "execution_count": null,
      "outputs": []
    },
    {
      "cell_type": "code",
      "source": [
        "def cleaning(dataset):\n",
        "    features = dataset.columns.tolist()\n",
        "    dataset['mean_features'] = 0.1 * dataset[features].mean(axis=1)\n",
        "    dataset['std_features'] = dataset[features].std(axis=1)\n",
        "    dataset['max_features'] = dataset[features].max(axis=1)\n",
        "    dataset['min_features'] = dataset[features].min(axis=1)\n",
        "    dataset['median_features'] = 0.1 * dataset[features].median(axis=1)\n",
        "    dataset['sum_features'] = dataset[features].sum(axis=1)\n",
        "    dataset = dataset.drop(features, axis=1)\n",
        "    return dataset\n",
        "\n",
        "train_csv = cleaning(train_csv)\n",
        "test_csv = cleaning(test_csv)"
      ],
      "metadata": {
        "execution": {
          "iopub.status.busy": "2024-05-10T18:28:17.580739Z",
          "iopub.execute_input": "2024-05-10T18:28:17.581121Z",
          "iopub.status.idle": "2024-05-10T18:28:24.264464Z",
          "shell.execute_reply.started": "2024-05-10T18:28:17.581089Z",
          "shell.execute_reply": "2024-05-10T18:28:24.26322Z"
        },
        "trusted": true,
        "id": "WqK09_A7QAEN"
      },
      "execution_count": null,
      "outputs": []
    },
    {
      "cell_type": "code",
      "source": [
        "train_csv = pd.concat([train_csv, Y], axis=1)"
      ],
      "metadata": {
        "execution": {
          "iopub.status.busy": "2024-05-10T18:28:24.265985Z",
          "iopub.execute_input": "2024-05-10T18:28:24.266415Z",
          "iopub.status.idle": "2024-05-10T18:28:24.336868Z",
          "shell.execute_reply.started": "2024-05-10T18:28:24.26638Z",
          "shell.execute_reply": "2024-05-10T18:28:24.335522Z"
        },
        "trusted": true,
        "id": "lnIpStnQQAEO"
      },
      "execution_count": null,
      "outputs": []
    },
    {
      "cell_type": "code",
      "source": [
        "train_csv.head()"
      ],
      "metadata": {
        "execution": {
          "iopub.status.busy": "2024-05-10T18:28:24.338428Z",
          "iopub.execute_input": "2024-05-10T18:28:24.338807Z",
          "iopub.status.idle": "2024-05-10T18:28:24.358702Z",
          "shell.execute_reply.started": "2024-05-10T18:28:24.338774Z",
          "shell.execute_reply": "2024-05-10T18:28:24.357274Z"
        },
        "trusted": true,
        "id": "iVdzWe39QAEO",
        "outputId": "75e25f33-cf94-4c22-9533-b44e0ea9e4a3"
      },
      "execution_count": null,
      "outputs": [
        {
          "name": "stderr",
          "text": "/opt/conda/lib/python3.10/site-packages/IPython/core/formatters.py:344: FutureWarning: Index.format is deprecated and will be removed in a future version. Convert using index.astype(str) or index.map(formatter) instead.\n  return method()\n/opt/conda/lib/python3.10/site-packages/IPython/core/formatters.py:344: FutureWarning: RangeIndex.format is deprecated and will be removed in a future version. Convert using index.astype(str) or index.map(formatter) instead.\n  return method()\n",
          "output_type": "stream"
        },
        {
          "execution_count": 10,
          "output_type": "execute_result",
          "data": {
            "text/plain": "   mean_features  std_features  max_features  min_features  median_features   \n0          0.470      1.750188             8             2             0.45  \\\n1          0.470      2.296450             9             0             0.40   \n2          0.495      1.932411             8             1             0.50   \n3          0.520      1.641565             8             2             0.50   \n4          0.360      1.500877             6             1             0.30   \n\n   sum_features  FloodProbability  \n0            94             0.445  \n1            94             0.450  \n2            99             0.530  \n3           104             0.535  \n4            72             0.415  ",
            "text/html": "<div>\n<style scoped>\n    .dataframe tbody tr th:only-of-type {\n        vertical-align: middle;\n    }\n\n    .dataframe tbody tr th {\n        vertical-align: top;\n    }\n\n    .dataframe thead th {\n        text-align: right;\n    }\n</style>\n<table border=\"1\" class=\"dataframe\">\n  <thead>\n    <tr style=\"text-align: right;\">\n      <th></th>\n      <th>mean_features</th>\n      <th>std_features</th>\n      <th>max_features</th>\n      <th>min_features</th>\n      <th>median_features</th>\n      <th>sum_features</th>\n      <th>FloodProbability</th>\n    </tr>\n  </thead>\n  <tbody>\n    <tr>\n      <th>0</th>\n      <td>0.470</td>\n      <td>1.750188</td>\n      <td>8</td>\n      <td>2</td>\n      <td>0.45</td>\n      <td>94</td>\n      <td>0.445</td>\n    </tr>\n    <tr>\n      <th>1</th>\n      <td>0.470</td>\n      <td>2.296450</td>\n      <td>9</td>\n      <td>0</td>\n      <td>0.40</td>\n      <td>94</td>\n      <td>0.450</td>\n    </tr>\n    <tr>\n      <th>2</th>\n      <td>0.495</td>\n      <td>1.932411</td>\n      <td>8</td>\n      <td>1</td>\n      <td>0.50</td>\n      <td>99</td>\n      <td>0.530</td>\n    </tr>\n    <tr>\n      <th>3</th>\n      <td>0.520</td>\n      <td>1.641565</td>\n      <td>8</td>\n      <td>2</td>\n      <td>0.50</td>\n      <td>104</td>\n      <td>0.535</td>\n    </tr>\n    <tr>\n      <th>4</th>\n      <td>0.360</td>\n      <td>1.500877</td>\n      <td>6</td>\n      <td>1</td>\n      <td>0.30</td>\n      <td>72</td>\n      <td>0.415</td>\n    </tr>\n  </tbody>\n</table>\n</div>"
          },
          "metadata": {}
        }
      ]
    },
    {
      "cell_type": "markdown",
      "source": [
        "## Definitions of light autoML"
      ],
      "metadata": {
        "id": "u1kGZXh7QAEP"
      }
    },
    {
      "cell_type": "code",
      "source": [
        "N_THREADS = 4\n",
        "N_FOLDS = 15\n",
        "TEST_SIZE = 0.1\n",
        "TIMEOUT = 1\n",
        "RANDOM_STATE = 42\n",
        "TARGET_NAME = \"FloodProbability\""
      ],
      "metadata": {
        "execution": {
          "iopub.status.busy": "2024-05-10T18:28:24.360348Z",
          "iopub.execute_input": "2024-05-10T18:28:24.360737Z",
          "iopub.status.idle": "2024-05-10T18:28:24.367167Z",
          "shell.execute_reply.started": "2024-05-10T18:28:24.360699Z",
          "shell.execute_reply": "2024-05-10T18:28:24.365903Z"
        },
        "trusted": true,
        "id": "f5siOx41QAEQ"
      },
      "execution_count": null,
      "outputs": []
    },
    {
      "cell_type": "markdown",
      "source": [
        "## Train Test Split"
      ],
      "metadata": {
        "id": "evDjRmjlQAER"
      }
    },
    {
      "cell_type": "code",
      "source": [
        "train_data, val_data = train_test_split(train_csv,test_size=TEST_SIZE,random_state=RANDOM_STATE)"
      ],
      "metadata": {
        "execution": {
          "iopub.status.busy": "2024-05-10T18:28:24.371551Z",
          "iopub.execute_input": "2024-05-10T18:28:24.371931Z",
          "iopub.status.idle": "2024-05-10T18:28:24.513885Z",
          "shell.execute_reply.started": "2024-05-10T18:28:24.371898Z",
          "shell.execute_reply": "2024-05-10T18:28:24.512641Z"
        },
        "trusted": true,
        "id": "3x7wVzqCQAER"
      },
      "execution_count": null,
      "outputs": []
    },
    {
      "cell_type": "code",
      "source": [
        "task = Task('reg', loss='mse', metric='r2')\n",
        "\n",
        "roles = {'target': TARGET_NAME}"
      ],
      "metadata": {
        "execution": {
          "iopub.status.busy": "2024-05-10T18:28:24.515952Z",
          "iopub.execute_input": "2024-05-10T18:28:24.516438Z",
          "iopub.status.idle": "2024-05-10T18:28:24.524194Z",
          "shell.execute_reply.started": "2024-05-10T18:28:24.516385Z",
          "shell.execute_reply": "2024-05-10T18:28:24.522852Z"
        },
        "trusted": true,
        "id": "8N1uIxq1QAER"
      },
      "execution_count": null,
      "outputs": []
    },
    {
      "cell_type": "code",
      "source": [
        "automl = TabularAutoML(\n",
        "        task = task,\n",
        "        timeout = TIMEOUT,\n",
        "        cpu_limit = N_THREADS,\n",
        "        general_params = {'use_algos':[['lgb_tuned', 'cb_tuned']]},\n",
        "        selection_params={'mode' : 2},\n",
        "        tuning_params = {'max_tuning_time': 3},\n",
        "        reader_params = {'n_jobs': N_THREADS, 'cv': N_FOLDS, 'random_state': RANDOM_STATE})"
      ],
      "metadata": {
        "execution": {
          "iopub.status.busy": "2024-05-10T18:28:24.526329Z",
          "iopub.execute_input": "2024-05-10T18:28:24.52688Z",
          "iopub.status.idle": "2024-05-10T18:28:24.601216Z",
          "shell.execute_reply.started": "2024-05-10T18:28:24.526832Z",
          "shell.execute_reply": "2024-05-10T18:28:24.600076Z"
        },
        "trusted": true,
        "id": "ngK9Mxo5QAES"
      },
      "execution_count": null,
      "outputs": []
    },
    {
      "cell_type": "code",
      "source": [
        "train_predictions = automl.fit_predict(train_data,\n",
        "                                       roles = {'target': TARGET_NAME},\n",
        "                                       verbose = 1)"
      ],
      "metadata": {
        "execution": {
          "iopub.status.busy": "2024-05-10T18:28:24.60302Z",
          "iopub.execute_input": "2024-05-10T18:28:24.603469Z",
          "iopub.status.idle": "2024-05-10T18:33:39.796149Z",
          "shell.execute_reply.started": "2024-05-10T18:28:24.603429Z",
          "shell.execute_reply": "2024-05-10T18:33:39.794587Z"
        },
        "trusted": true,
        "id": "3P-TnlKeQAES",
        "outputId": "5d9dd8f0-1d3d-42ce-dc89-ae2fe91d9858"
      },
      "execution_count": null,
      "outputs": [
        {
          "name": "stdout",
          "text": "[18:28:24] Stdout logging level is INFO.\n[18:28:24] Copying TaskTimer may affect the parent PipelineTimer, so copy will create new unlimited TaskTimer\n[18:28:24] Task: reg\n\n[18:28:24] Start automl preset with listed constraints:\n[18:28:24] - time: 1.00 seconds\n[18:28:24] - CPU: 4 cores\n[18:28:24] - memory: 16 GB\n\n[18:28:24] \u001b[1mTrain data shape: (1006161, 7)\u001b[0m\n\n",
          "output_type": "stream"
        },
        {
          "name": "stderr",
          "text": "/opt/conda/lib/python3.10/site-packages/joblib/externals/loky/backend/fork_exec.py:37: RuntimeWarning: os.fork() was called. os.fork() is incompatible with multithreaded code, and JAX is multithreaded, so this will likely lead to a deadlock.\n  pid = os.fork()\n",
          "output_type": "stream"
        },
        {
          "name": "stdout",
          "text": "[18:28:33] Layer \u001b[1m1\u001b[0m train process start. Time left -7.87 secs\n[18:29:07] \u001b[1mSelector_LightGBM\u001b[0m fitting and predicting completed\n[18:29:34] \u001b[1mSelector_LightGBM\u001b[0m fitting and predicting completed\n[18:30:06] \u001b[1mSelector_LightGBM\u001b[0m fitting and predicting completed\n[18:30:31] \u001b[1mSelector_LightGBM\u001b[0m fitting and predicting completed\n[18:31:19] \u001b[1mSelector_LightGBM\u001b[0m fitting and predicting completed\n[18:31:42] \u001b[1mSelector_LightGBM\u001b[0m fitting and predicting completed\n[18:32:04] \u001b[1mSelector_LightGBM\u001b[0m fitting and predicting completed\n[18:32:33] \u001b[1mSelector_LightGBM\u001b[0m fitting and predicting completed\n[18:32:33] Start hyperparameters optimization for \u001b[1mLvl_0_Pipe_0_Mod_0_Tuned_LightGBM\u001b[0m ... Time budget is 1.00 secs\n[18:33:05] Hyperparameters optimization for \u001b[1mLvl_0_Pipe_0_Mod_0_Tuned_LightGBM\u001b[0m completed\n[18:33:05] Start fitting \u001b[1mLvl_0_Pipe_0_Mod_0_Tuned_LightGBM\u001b[0m ...\n[18:33:39] Time limit exceeded after calculating fold 0\n\n[18:33:39] Fitting \u001b[1mLvl_0_Pipe_0_Mod_0_Tuned_LightGBM\u001b[0m finished. score = \u001b[1m0.8714547139245636\u001b[0m\n[18:33:39] \u001b[1mLvl_0_Pipe_0_Mod_0_Tuned_LightGBM\u001b[0m fitting and predicting completed\n[18:33:39] Time left -314.15 secs\n\n[18:33:39] Time limit exceeded. Last level models will be blended and unused pipelines will be pruned.\n\n[18:33:39] \u001b[1mLayer 1 training completed.\u001b[0m\n\n[18:33:39] \u001b[1mAutoml preset training completed in 315.15 seconds\u001b[0m\n\n[18:33:39] Model description:\nFinal prediction for new objects (level 0) = \n\t 1.00000 * (1 averaged models Lvl_0_Pipe_0_Mod_0_Tuned_LightGBM) \n\n",
          "output_type": "stream"
        }
      ]
    },
    {
      "cell_type": "code",
      "source": [
        "val_preds = automl.predict(val_data)#testing on val_data\n",
        "\n",
        "print(f'OOF score: {r2_score(val_data[\"FloodProbability\"].values, val_preds.data[:, 0])}')"
      ],
      "metadata": {
        "execution": {
          "iopub.status.busy": "2024-05-10T18:33:39.798367Z",
          "iopub.execute_input": "2024-05-10T18:33:39.798772Z",
          "iopub.status.idle": "2024-05-10T18:33:42.287555Z",
          "shell.execute_reply.started": "2024-05-10T18:33:39.798731Z",
          "shell.execute_reply": "2024-05-10T18:33:42.286607Z"
        },
        "trusted": true,
        "id": "O12sVRtYQAES",
        "outputId": "144c81f7-4248-4b95-ecc3-46ffeb055113"
      },
      "execution_count": null,
      "outputs": [
        {
          "name": "stdout",
          "text": "OOF score: 0.8687340128885203\n",
          "output_type": "stream"
        }
      ]
    },
    {
      "cell_type": "code",
      "source": [
        "print(pd.__version__)"
      ],
      "metadata": {
        "execution": {
          "iopub.status.busy": "2024-05-10T19:05:58.218261Z",
          "iopub.execute_input": "2024-05-10T19:05:58.21883Z",
          "iopub.status.idle": "2024-05-10T19:05:58.226097Z",
          "shell.execute_reply.started": "2024-05-10T19:05:58.218788Z",
          "shell.execute_reply": "2024-05-10T19:05:58.224669Z"
        },
        "trusted": true,
        "id": "DJ0TXfTyQAES",
        "outputId": "4d206010-2d4f-4424-f958-a10d33257e9a"
      },
      "execution_count": null,
      "outputs": [
        {
          "name": "stdout",
          "text": "2.2.2\n",
          "output_type": "stream"
        }
      ]
    },
    {
      "cell_type": "code",
      "source": [
        "pip install --upgrade pandas"
      ],
      "metadata": {
        "execution": {
          "iopub.status.busy": "2024-05-10T19:06:19.179453Z",
          "iopub.execute_input": "2024-05-10T19:06:19.17992Z",
          "iopub.status.idle": "2024-05-10T19:06:43.261151Z",
          "shell.execute_reply.started": "2024-05-10T19:06:19.179883Z",
          "shell.execute_reply": "2024-05-10T19:06:43.259602Z"
        },
        "trusted": true,
        "id": "B9o-CEqNQAES",
        "outputId": "26e43228-bf5c-4546-8dbb-185a75f67c85"
      },
      "execution_count": null,
      "outputs": [
        {
          "name": "stdout",
          "text": "Requirement already satisfied: pandas in /opt/conda/lib/python3.10/site-packages (1.5.3)\nCollecting pandas\n  Downloading pandas-2.2.2-cp310-cp310-manylinux_2_17_x86_64.manylinux2014_x86_64.whl.metadata (19 kB)\nRequirement already satisfied: numpy>=1.22.4 in /opt/conda/lib/python3.10/site-packages (from pandas) (1.26.4)\nRequirement already satisfied: python-dateutil>=2.8.2 in /opt/conda/lib/python3.10/site-packages (from pandas) (2.9.0.post0)\nRequirement already satisfied: pytz>=2020.1 in /opt/conda/lib/python3.10/site-packages (from pandas) (2023.3.post1)\nRequirement already satisfied: tzdata>=2022.7 in /opt/conda/lib/python3.10/site-packages (from pandas) (2023.4)\nRequirement already satisfied: six>=1.5 in /opt/conda/lib/python3.10/site-packages (from python-dateutil>=2.8.2->pandas) (1.16.0)\nDownloading pandas-2.2.2-cp310-cp310-manylinux_2_17_x86_64.manylinux2014_x86_64.whl (13.0 MB)\n\u001b[2K   \u001b[90m━━━━━━━━━━━━━━━━━━━━━━━━━━━━━━━━━━━━━━━━\u001b[0m \u001b[32m13.0/13.0 MB\u001b[0m \u001b[31m49.3 MB/s\u001b[0m eta \u001b[36m0:00:00\u001b[0m00:01\u001b[0m00:01\u001b[0m\n\u001b[?25hInstalling collected packages: pandas\n  Attempting uninstall: pandas\n    Found existing installation: pandas 1.5.3\n    Uninstalling pandas-1.5.3:\n      Successfully uninstalled pandas-1.5.3\n\u001b[31mERROR: pip's dependency resolver does not currently take into account all the packages that are installed. This behaviour is the source of the following dependency conflicts.\ntensorflow-decision-forests 1.8.1 requires wurlitzer, which is not installed.\nbeatrix-jupyterlab 2023.128.151533 requires jupyterlab~=3.6.0, but you have jupyterlab 4.1.6 which is incompatible.\nfitter 1.7.0 requires joblib<2.0.0,>=1.3.1, but you have joblib 1.2.0 which is incompatible.\nlibpysal 4.9.2 requires packaging>=22, but you have packaging 21.3 which is incompatible.\nlibpysal 4.9.2 requires shapely>=2.0.1, but you have shapely 1.8.5.post1 which is incompatible.\nlightautoml 0.3.8.1 requires pandas<2.0.0, but you have pandas 2.2.2 which is incompatible.\nmomepy 0.7.0 requires shapely>=2, but you have shapely 1.8.5.post1 which is incompatible.\nosmnx 1.9.2 requires shapely>=2.0, but you have shapely 1.8.5.post1 which is incompatible.\nspopt 0.6.0 requires shapely>=2.0.1, but you have shapely 1.8.5.post1 which is incompatible.\nxarray 2024.3.0 requires packaging>=22, but you have packaging 21.3 which is incompatible.\nydata-profiling 4.6.4 requires numpy<1.26,>=1.16.0, but you have numpy 1.26.4 which is incompatible.\u001b[0m\u001b[31m\n\u001b[0mSuccessfully installed pandas-2.2.2\nNote: you may need to restart the kernel to use updated packages.\n",
          "output_type": "stream"
        }
      ]
    },
    {
      "cell_type": "code",
      "source": [
        "import pandas as pd\n",
        "print(pd.__version__)"
      ],
      "metadata": {
        "execution": {
          "iopub.status.busy": "2024-05-10T19:07:21.945801Z",
          "iopub.execute_input": "2024-05-10T19:07:21.946229Z",
          "iopub.status.idle": "2024-05-10T19:07:21.952585Z",
          "shell.execute_reply.started": "2024-05-10T19:07:21.946198Z",
          "shell.execute_reply": "2024-05-10T19:07:21.95118Z"
        },
        "trusted": true,
        "id": "4fFHSp4bQAET",
        "outputId": "c61f4523-6569-4c74-98d0-99f223465ba3"
      },
      "execution_count": null,
      "outputs": [
        {
          "name": "stdout",
          "text": "2.2.2\n",
          "output_type": "stream"
        }
      ]
    },
    {
      "cell_type": "code",
      "source": [
        "test_preds = automl.predict(test_csv)"
      ],
      "metadata": {
        "execution": {
          "iopub.status.busy": "2024-05-10T19:06:47.25345Z",
          "iopub.execute_input": "2024-05-10T19:06:47.254492Z",
          "iopub.status.idle": "2024-05-10T19:07:06.495476Z",
          "shell.execute_reply.started": "2024-05-10T19:06:47.254439Z",
          "shell.execute_reply": "2024-05-10T19:07:06.494348Z"
        },
        "trusted": true,
        "id": "pPl86mIlQAET"
      },
      "execution_count": null,
      "outputs": []
    },
    {
      "cell_type": "code",
      "source": [
        "test_preds = pd.DataFrame(test_preds)\n",
        "test_preds = test_preds[0]"
      ],
      "metadata": {
        "execution": {
          "iopub.status.busy": "2024-05-10T19:14:26.125445Z",
          "iopub.execute_input": "2024-05-10T19:14:26.126592Z",
          "iopub.status.idle": "2024-05-10T19:14:26.132083Z",
          "shell.execute_reply.started": "2024-05-10T19:14:26.126548Z",
          "shell.execute_reply": "2024-05-10T19:14:26.130561Z"
        },
        "trusted": true,
        "id": "xvKfiNRUQAET"
      },
      "execution_count": null,
      "outputs": []
    },
    {
      "cell_type": "code",
      "source": [
        "print(test_preds)"
      ],
      "metadata": {
        "execution": {
          "iopub.status.busy": "2024-05-10T19:14:31.449598Z",
          "iopub.execute_input": "2024-05-10T19:14:31.450046Z",
          "iopub.status.idle": "2024-05-10T19:14:31.458294Z",
          "shell.execute_reply.started": "2024-05-10T19:14:31.449992Z",
          "shell.execute_reply": "2024-05-10T19:14:31.456887Z"
        },
        "trusted": true,
        "id": "UfD_n9ekQAET",
        "outputId": "15544a48-5631-4507-823a-3844abb9a942"
      },
      "execution_count": null,
      "outputs": [
        {
          "name": "stdout",
          "text": "0         0.579876\n1         0.455998\n2         0.449682\n3         0.466270\n4         0.466240\n            ...   \n745300    0.469883\n745301    0.443376\n745302    0.620774\n745303    0.548052\n745304    0.528989\nName: 0, Length: 745305, dtype: float32\n",
          "output_type": "stream"
        }
      ]
    },
    {
      "cell_type": "code",
      "source": [
        "subs = {'id': ids, 'FloodProbability': test_preds}\n",
        "subs = pd.DataFrame(subs)\n",
        "\n",
        "subs.to_csv(\"sub.csv\")"
      ],
      "metadata": {
        "execution": {
          "iopub.status.busy": "2024-05-10T19:14:56.541411Z",
          "iopub.execute_input": "2024-05-10T19:14:56.541881Z",
          "iopub.status.idle": "2024-05-10T19:14:56.67409Z",
          "shell.execute_reply.started": "2024-05-10T19:14:56.541837Z",
          "shell.execute_reply": "2024-05-10T19:14:56.672319Z"
        },
        "trusted": true,
        "id": "MAaCJkTiQAET",
        "outputId": "c281e70b-3b8a-460a-a474-0c1a2ec7f198"
      },
      "execution_count": null,
      "outputs": [
        {
          "traceback": [
            "\u001b[0;31m---------------------------------------------------------------------------\u001b[0m",
            "\u001b[0;31mAttributeError\u001b[0m                            Traceback (most recent call last)",
            "Cell \u001b[0;32mIn[108], line 4\u001b[0m\n\u001b[1;32m      1\u001b[0m subs \u001b[38;5;241m=\u001b[39m {\u001b[38;5;124m'\u001b[39m\u001b[38;5;124mid\u001b[39m\u001b[38;5;124m'\u001b[39m: ids, \u001b[38;5;124m'\u001b[39m\u001b[38;5;124mFloodProbability\u001b[39m\u001b[38;5;124m'\u001b[39m: test_preds}\n\u001b[1;32m      2\u001b[0m subs \u001b[38;5;241m=\u001b[39m pd\u001b[38;5;241m.\u001b[39mDataFrame(subs)\n\u001b[0;32m----> 4\u001b[0m \u001b[43msubs\u001b[49m\u001b[38;5;241;43m.\u001b[39;49m\u001b[43mto_csv\u001b[49m\u001b[43m(\u001b[49m\u001b[38;5;124;43m\"\u001b[39;49m\u001b[38;5;124;43msub.csv\u001b[39;49m\u001b[38;5;124;43m\"\u001b[39;49m\u001b[43m)\u001b[49m\n",
            "File \u001b[0;32m/opt/conda/lib/python3.10/site-packages/pandas/util/_decorators.py:333\u001b[0m, in \u001b[0;36mwrapper\u001b[0;34m(*args, **kwargs)\u001b[0m\n\u001b[1;32m    326\u001b[0m         warnings.warn(\n\u001b[1;32m    327\u001b[0m             msg.format(arguments=_format_argument_list(allow_args)),\n\u001b[1;32m    328\u001b[0m             FutureWarning,\n\u001b[1;32m    329\u001b[0m             stacklevel=find_stack_level(),\n\u001b[1;32m    330\u001b[0m         )\n\u001b[1;32m    331\u001b[0m     return func(*args, **kwargs)\n\u001b[0;32m--> 333\u001b[0m # error: \"Callable[[VarArg(Any), KwArg(Any)], Any]\" has no\n\u001b[1;32m    334\u001b[0m # attribute \"__signature__\"\n\u001b[1;32m    335\u001b[0m wrapper.__signature__ = new_sig  # type: ignore[attr-defined]\n\u001b[1;32m    336\u001b[0m return wrapper\n",
            "File \u001b[0;32m/opt/conda/lib/python3.10/site-packages/pandas/core/generic.py:3967\u001b[0m, in \u001b[0;36mto_csv\u001b[0;34m(self, path_or_buf, sep, na_rep, float_format, columns, header, index, index_label, mode, encoding, compression, quoting, quotechar, lineterminator, chunksize, date_format, doublequote, escapechar, decimal, errors, storage_options)\u001b[0m\n\u001b[1;32m   3908\u001b[0m \u001b[38;5;129m@final\u001b[39m\n\u001b[1;32m   3909\u001b[0m \u001b[38;5;28;01mdef\u001b[39;00m \u001b[38;5;21mxs\u001b[39m(\n\u001b[1;32m   3910\u001b[0m     \u001b[38;5;28mself\u001b[39m: NDFrameT,\n\u001b[0;32m   (...)\u001b[0m\n\u001b[1;32m   3914\u001b[0m     drop_level: bool_t \u001b[38;5;241m=\u001b[39m \u001b[38;5;28;01mTrue\u001b[39;00m,\n\u001b[1;32m   3915\u001b[0m ) \u001b[38;5;241m-\u001b[39m\u001b[38;5;241m>\u001b[39m NDFrameT:\n\u001b[1;32m   3916\u001b[0m \u001b[38;5;250m    \u001b[39m\u001b[38;5;124;03m\"\"\"\u001b[39;00m\n\u001b[1;32m   3917\u001b[0m \u001b[38;5;124;03m    Return cross-section from the Series/DataFrame.\u001b[39;00m\n\u001b[1;32m   3918\u001b[0m \n\u001b[1;32m   3919\u001b[0m \u001b[38;5;124;03m    This method takes a `key` argument to select data at a particular\u001b[39;00m\n\u001b[1;32m   3920\u001b[0m \u001b[38;5;124;03m    level of a MultiIndex.\u001b[39;00m\n\u001b[1;32m   3921\u001b[0m \n\u001b[1;32m   3922\u001b[0m \u001b[38;5;124;03m    Parameters\u001b[39;00m\n\u001b[1;32m   3923\u001b[0m \u001b[38;5;124;03m    ----------\u001b[39;00m\n\u001b[1;32m   3924\u001b[0m \u001b[38;5;124;03m    key : label or tuple of label\u001b[39;00m\n\u001b[1;32m   3925\u001b[0m \u001b[38;5;124;03m        Label contained in the index, or partially in a MultiIndex.\u001b[39;00m\n\u001b[1;32m   3926\u001b[0m \u001b[38;5;124;03m    axis : {0 or 'index', 1 or 'columns'}, default 0\u001b[39;00m\n\u001b[1;32m   3927\u001b[0m \u001b[38;5;124;03m        Axis to retrieve cross-section on.\u001b[39;00m\n\u001b[1;32m   3928\u001b[0m \u001b[38;5;124;03m    level : object, defaults to first n levels (n=1 or len(key))\u001b[39;00m\n\u001b[1;32m   3929\u001b[0m \u001b[38;5;124;03m        In case of a key partially contained in a MultiIndex, indicate\u001b[39;00m\n\u001b[1;32m   3930\u001b[0m \u001b[38;5;124;03m        which levels are used. Levels can be referred by label or position.\u001b[39;00m\n\u001b[1;32m   3931\u001b[0m \u001b[38;5;124;03m    drop_level : bool, default True\u001b[39;00m\n\u001b[1;32m   3932\u001b[0m \u001b[38;5;124;03m        If False, returns object with same levels as self.\u001b[39;00m\n\u001b[1;32m   3933\u001b[0m \n\u001b[1;32m   3934\u001b[0m \u001b[38;5;124;03m    Returns\u001b[39;00m\n\u001b[1;32m   3935\u001b[0m \u001b[38;5;124;03m    -------\u001b[39;00m\n\u001b[1;32m   3936\u001b[0m \u001b[38;5;124;03m    Series or DataFrame\u001b[39;00m\n\u001b[1;32m   3937\u001b[0m \u001b[38;5;124;03m        Cross-section from the original Series or DataFrame\u001b[39;00m\n\u001b[1;32m   3938\u001b[0m \u001b[38;5;124;03m        corresponding to the selected index levels.\u001b[39;00m\n\u001b[1;32m   3939\u001b[0m \n\u001b[1;32m   3940\u001b[0m \u001b[38;5;124;03m    See Also\u001b[39;00m\n\u001b[1;32m   3941\u001b[0m \u001b[38;5;124;03m    --------\u001b[39;00m\n\u001b[1;32m   3942\u001b[0m \u001b[38;5;124;03m    DataFrame.loc : Access a group of rows and columns\u001b[39;00m\n\u001b[1;32m   3943\u001b[0m \u001b[38;5;124;03m        by label(s) or a boolean array.\u001b[39;00m\n\u001b[1;32m   3944\u001b[0m \u001b[38;5;124;03m    DataFrame.iloc : Purely integer-location based indexing\u001b[39;00m\n\u001b[1;32m   3945\u001b[0m \u001b[38;5;124;03m        for selection by position.\u001b[39;00m\n\u001b[1;32m   3946\u001b[0m \n\u001b[1;32m   3947\u001b[0m \u001b[38;5;124;03m    Notes\u001b[39;00m\n\u001b[1;32m   3948\u001b[0m \u001b[38;5;124;03m    -----\u001b[39;00m\n\u001b[1;32m   3949\u001b[0m \u001b[38;5;124;03m    `xs` can not be used to set values.\u001b[39;00m\n\u001b[1;32m   3950\u001b[0m \n\u001b[1;32m   3951\u001b[0m \u001b[38;5;124;03m    MultiIndex Slicers is a generic way to get/set values on\u001b[39;00m\n\u001b[1;32m   3952\u001b[0m \u001b[38;5;124;03m    any level or levels.\u001b[39;00m\n\u001b[1;32m   3953\u001b[0m \u001b[38;5;124;03m    It is a superset of `xs` functionality, see\u001b[39;00m\n\u001b[1;32m   3954\u001b[0m \u001b[38;5;124;03m    :ref:`MultiIndex Slicers <advanced.mi_slicers>`.\u001b[39;00m\n\u001b[1;32m   3955\u001b[0m \n\u001b[1;32m   3956\u001b[0m \u001b[38;5;124;03m    Examples\u001b[39;00m\n\u001b[1;32m   3957\u001b[0m \u001b[38;5;124;03m    --------\u001b[39;00m\n\u001b[1;32m   3958\u001b[0m \u001b[38;5;124;03m    >>> d = {'num_legs': [4, 4, 2, 2],\u001b[39;00m\n\u001b[1;32m   3959\u001b[0m \u001b[38;5;124;03m    ...      'num_wings': [0, 0, 2, 2],\u001b[39;00m\n\u001b[1;32m   3960\u001b[0m \u001b[38;5;124;03m    ...      'class': ['mammal', 'mammal', 'mammal', 'bird'],\u001b[39;00m\n\u001b[1;32m   3961\u001b[0m \u001b[38;5;124;03m    ...      'animal': ['cat', 'dog', 'bat', 'penguin'],\u001b[39;00m\n\u001b[1;32m   3962\u001b[0m \u001b[38;5;124;03m    ...      'locomotion': ['walks', 'walks', 'flies', 'walks']}\u001b[39;00m\n\u001b[1;32m   3963\u001b[0m \u001b[38;5;124;03m    >>> df = pd.DataFrame(data=d)\u001b[39;00m\n\u001b[1;32m   3964\u001b[0m \u001b[38;5;124;03m    >>> df = df.set_index(['class', 'animal', 'locomotion'])\u001b[39;00m\n\u001b[1;32m   3965\u001b[0m \u001b[38;5;124;03m    >>> df\u001b[39;00m\n\u001b[1;32m   3966\u001b[0m \u001b[38;5;124;03m                               num_legs  num_wings\u001b[39;00m\n\u001b[0;32m-> 3967\u001b[0m \u001b[38;5;124;03m    class  animal  locomotion\u001b[39;00m\n\u001b[1;32m   3968\u001b[0m \u001b[38;5;124;03m    mammal cat     walks              4          0\u001b[39;00m\n\u001b[1;32m   3969\u001b[0m \u001b[38;5;124;03m           dog     walks              4          0\u001b[39;00m\n\u001b[1;32m   3970\u001b[0m \u001b[38;5;124;03m           bat     flies              2          2\u001b[39;00m\n\u001b[1;32m   3971\u001b[0m \u001b[38;5;124;03m    bird   penguin walks              2          2\u001b[39;00m\n\u001b[1;32m   3972\u001b[0m \n\u001b[1;32m   3973\u001b[0m \u001b[38;5;124;03m    Get values at specified index\u001b[39;00m\n\u001b[1;32m   3974\u001b[0m \n\u001b[1;32m   3975\u001b[0m \u001b[38;5;124;03m    >>> df.xs('mammal')\u001b[39;00m\n\u001b[1;32m   3976\u001b[0m \u001b[38;5;124;03m                       num_legs  num_wings\u001b[39;00m\n\u001b[1;32m   3977\u001b[0m \u001b[38;5;124;03m    animal locomotion\u001b[39;00m\n\u001b[1;32m   3978\u001b[0m \u001b[38;5;124;03m    cat    walks              4          0\u001b[39;00m\n\u001b[1;32m   3979\u001b[0m \u001b[38;5;124;03m    dog    walks              4          0\u001b[39;00m\n\u001b[1;32m   3980\u001b[0m \u001b[38;5;124;03m    bat    flies              2          2\u001b[39;00m\n\u001b[1;32m   3981\u001b[0m \n\u001b[1;32m   3982\u001b[0m \u001b[38;5;124;03m    Get values at several indexes\u001b[39;00m\n\u001b[1;32m   3983\u001b[0m \n\u001b[1;32m   3984\u001b[0m \u001b[38;5;124;03m    >>> df.xs(('mammal', 'dog'))\u001b[39;00m\n\u001b[1;32m   3985\u001b[0m \u001b[38;5;124;03m                num_legs  num_wings\u001b[39;00m\n\u001b[1;32m   3986\u001b[0m \u001b[38;5;124;03m    locomotion\u001b[39;00m\n\u001b[1;32m   3987\u001b[0m \u001b[38;5;124;03m    walks              4          0\u001b[39;00m\n\u001b[1;32m   3988\u001b[0m \n\u001b[1;32m   3989\u001b[0m \u001b[38;5;124;03m    Get values at specified index and level\u001b[39;00m\n\u001b[1;32m   3990\u001b[0m \n\u001b[1;32m   3991\u001b[0m \u001b[38;5;124;03m    >>> df.xs('cat', level=1)\u001b[39;00m\n\u001b[1;32m   3992\u001b[0m \u001b[38;5;124;03m                       num_legs  num_wings\u001b[39;00m\n\u001b[1;32m   3993\u001b[0m \u001b[38;5;124;03m    class  locomotion\u001b[39;00m\n\u001b[1;32m   3994\u001b[0m \u001b[38;5;124;03m    mammal walks              4          0\u001b[39;00m\n\u001b[1;32m   3995\u001b[0m \n\u001b[1;32m   3996\u001b[0m \u001b[38;5;124;03m    Get values at several indexes and levels\u001b[39;00m\n\u001b[1;32m   3997\u001b[0m \n\u001b[1;32m   3998\u001b[0m \u001b[38;5;124;03m    >>> df.xs(('bird', 'walks'),\u001b[39;00m\n\u001b[1;32m   3999\u001b[0m \u001b[38;5;124;03m    ...       level=[0, 'locomotion'])\u001b[39;00m\n\u001b[1;32m   4000\u001b[0m \u001b[38;5;124;03m             num_legs  num_wings\u001b[39;00m\n\u001b[1;32m   4001\u001b[0m \u001b[38;5;124;03m    animal\u001b[39;00m\n\u001b[1;32m   4002\u001b[0m \u001b[38;5;124;03m    penguin         2          2\u001b[39;00m\n\u001b[1;32m   4003\u001b[0m \n\u001b[1;32m   4004\u001b[0m \u001b[38;5;124;03m    Get values at specified column and axis\u001b[39;00m\n\u001b[1;32m   4005\u001b[0m \n\u001b[1;32m   4006\u001b[0m \u001b[38;5;124;03m    >>> df.xs('num_wings', axis=1)\u001b[39;00m\n\u001b[1;32m   4007\u001b[0m \u001b[38;5;124;03m    class   animal   locomotion\u001b[39;00m\n\u001b[1;32m   4008\u001b[0m \u001b[38;5;124;03m    mammal  cat      walks         0\u001b[39;00m\n\u001b[1;32m   4009\u001b[0m \u001b[38;5;124;03m            dog      walks         0\u001b[39;00m\n\u001b[1;32m   4010\u001b[0m \u001b[38;5;124;03m            bat      flies         2\u001b[39;00m\n\u001b[1;32m   4011\u001b[0m \u001b[38;5;124;03m    bird    penguin  walks         2\u001b[39;00m\n\u001b[1;32m   4012\u001b[0m \u001b[38;5;124;03m    Name: num_wings, dtype: int64\u001b[39;00m\n\u001b[1;32m   4013\u001b[0m \u001b[38;5;124;03m    \"\"\"\u001b[39;00m\n\u001b[1;32m   4014\u001b[0m     axis \u001b[38;5;241m=\u001b[39m \u001b[38;5;28mself\u001b[39m\u001b[38;5;241m.\u001b[39m_get_axis_number(axis)\n\u001b[1;32m   4015\u001b[0m     labels \u001b[38;5;241m=\u001b[39m \u001b[38;5;28mself\u001b[39m\u001b[38;5;241m.\u001b[39m_get_axis(axis)\n",
            "File \u001b[0;32m/opt/conda/lib/python3.10/site-packages/pandas/io/formats/format.py:995\u001b[0m, in \u001b[0;36mto_csv\u001b[0;34m(self, path_or_buf, encoding, sep, columns, index_label, mode, compression, quoting, quotechar, lineterminator, chunksize, date_format, doublequote, escapechar, errors, storage_options)\u001b[0m\n\u001b[1;32m    992\u001b[0m \u001b[38;5;28;01melse\u001b[39;00m:\n\u001b[1;32m    993\u001b[0m     col_header \u001b[38;5;241m=\u001b[39m [\u001b[38;5;124m\"\u001b[39m\u001b[38;5;124m\"\u001b[39m] \u001b[38;5;241m*\u001b[39m columns\u001b[38;5;241m.\u001b[39mnlevels\n\u001b[0;32m--> 995\u001b[0m \u001b[38;5;28;01mif\u001b[39;00m \u001b[38;5;28mself\u001b[39m\u001b[38;5;241m.\u001b[39mheader:\n\u001b[1;32m    996\u001b[0m     \u001b[38;5;28;01mreturn\u001b[39;00m col_header \u001b[38;5;241m+\u001b[39m adjoined\n\u001b[1;32m    997\u001b[0m \u001b[38;5;28;01melse\u001b[39;00m:\n",
            "File \u001b[0;32m/opt/conda/lib/python3.10/site-packages/pandas/io/formats/csvs.py:89\u001b[0m, in \u001b[0;36mCSVFormatter.__init__\u001b[0;34m(self, formatter, path_or_buf, sep, cols, index_label, mode, encoding, errors, compression, quoting, lineterminator, chunksize, quotechar, date_format, doublequote, escapechar, storage_options)\u001b[0m\n\u001b[1;32m     87\u001b[0m \u001b[38;5;28mself\u001b[39m\u001b[38;5;241m.\u001b[39mlineterminator \u001b[38;5;241m=\u001b[39m lineterminator \u001b[38;5;129;01mor\u001b[39;00m os\u001b[38;5;241m.\u001b[39mlinesep\n\u001b[1;32m     88\u001b[0m \u001b[38;5;28mself\u001b[39m\u001b[38;5;241m.\u001b[39mdate_format \u001b[38;5;241m=\u001b[39m date_format\n\u001b[0;32m---> 89\u001b[0m \u001b[38;5;28mself\u001b[39m\u001b[38;5;241m.\u001b[39mcols \u001b[38;5;241m=\u001b[39m \u001b[38;5;28;43mself\u001b[39;49m\u001b[38;5;241;43m.\u001b[39;49m\u001b[43m_initialize_columns\u001b[49m\u001b[43m(\u001b[49m\u001b[43mcols\u001b[49m\u001b[43m)\u001b[49m\n\u001b[1;32m     90\u001b[0m \u001b[38;5;28mself\u001b[39m\u001b[38;5;241m.\u001b[39mchunksize \u001b[38;5;241m=\u001b[39m \u001b[38;5;28mself\u001b[39m\u001b[38;5;241m.\u001b[39m_initialize_chunksize(chunksize)\n",
            "File \u001b[0;32m/opt/conda/lib/python3.10/site-packages/pandas/io/formats/csvs.py:161\u001b[0m, in \u001b[0;36mCSVFormatter._initialize_columns\u001b[0;34m(self, cols)\u001b[0m\n\u001b[1;32m    158\u001b[0m \u001b[38;5;66;03m# update columns to include possible multiplicity of dupes\u001b[39;00m\n\u001b[1;32m    159\u001b[0m \u001b[38;5;66;03m# and make sure cols is just a list of labels\u001b[39;00m\n\u001b[1;32m    160\u001b[0m new_cols \u001b[38;5;241m=\u001b[39m \u001b[38;5;28mself\u001b[39m\u001b[38;5;241m.\u001b[39mobj\u001b[38;5;241m.\u001b[39mcolumns\n\u001b[0;32m--> 161\u001b[0m \u001b[38;5;28;01mreturn\u001b[39;00m \u001b[43mnew_cols\u001b[49m\u001b[38;5;241;43m.\u001b[39;49m\u001b[43m_format_native_types\u001b[49m(\u001b[38;5;241m*\u001b[39m\u001b[38;5;241m*\u001b[39m\u001b[38;5;28mself\u001b[39m\u001b[38;5;241m.\u001b[39m_number_format)\n",
            "\u001b[0;31mAttributeError\u001b[0m: 'Index' object has no attribute '_format_native_types'"
          ],
          "ename": "AttributeError",
          "evalue": "'Index' object has no attribute '_format_native_types'",
          "output_type": "error"
        }
      ]
    },
    {
      "cell_type": "code",
      "source": [
        "subs"
      ],
      "metadata": {
        "execution": {
          "iopub.status.busy": "2024-05-10T18:22:03.390996Z",
          "iopub.execute_input": "2024-05-10T18:22:03.391418Z",
          "iopub.status.idle": "2024-05-10T18:22:03.814915Z",
          "shell.execute_reply.started": "2024-05-10T18:22:03.391377Z",
          "shell.execute_reply": "2024-05-10T18:22:03.813453Z"
        },
        "trusted": true,
        "id": "JPDA1CDGQAET",
        "outputId": "bc7111eb-106f-42c0-ae8f-aa5887e84852"
      },
      "execution_count": null,
      "outputs": [
        {
          "traceback": [
            "\u001b[0;31m---------------------------------------------------------------------------\u001b[0m",
            "\u001b[0;31mNameError\u001b[0m                                 Traceback (most recent call last)",
            "Cell \u001b[0;32mIn[1], line 1\u001b[0m\n\u001b[0;32m----> 1\u001b[0m \u001b[43msubs\u001b[49m\n",
            "\u001b[0;31mNameError\u001b[0m: name 'subs' is not defined"
          ],
          "ename": "NameError",
          "evalue": "name 'subs' is not defined",
          "output_type": "error"
        }
      ]
    },
    {
      "cell_type": "code",
      "source": [],
      "metadata": {
        "id": "qlI8SBYGQAEU"
      },
      "execution_count": null,
      "outputs": []
    }
  ]
}