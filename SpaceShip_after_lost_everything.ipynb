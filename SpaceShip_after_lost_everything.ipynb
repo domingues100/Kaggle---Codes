{
  "metadata": {
    "kernelspec": {
      "language": "python",
      "display_name": "Python 3",
      "name": "python3"
    },
    "language_info": {
      "name": "python",
      "version": "3.10.13",
      "mimetype": "text/x-python",
      "codemirror_mode": {
        "name": "ipython",
        "version": 3
      },
      "pygments_lexer": "ipython3",
      "nbconvert_exporter": "python",
      "file_extension": ".py"
    },
    "kaggle": {
      "accelerator": "none",
      "dataSources": [
        {
          "sourceId": 34377,
          "databundleVersionId": 3220602,
          "sourceType": "competition"
        }
      ],
      "dockerImageVersionId": 30698,
      "isInternetEnabled": true,
      "language": "python",
      "sourceType": "notebook",
      "isGpuEnabled": false
    },
    "colab": {
      "name": "SpaceShip after lost everything",
      "provenance": [],
      "include_colab_link": true
    }
  },
  "nbformat_minor": 0,
  "nbformat": 4,
  "cells": [
    {
      "cell_type": "markdown",
      "metadata": {
        "id": "view-in-github",
        "colab_type": "text"
      },
      "source": [
        "<a href=\"https://colab.research.google.com/github/domingues100/Kaggle---Codes/blob/master/SpaceShip_after_lost_everything.ipynb\" target=\"_parent\"><img src=\"https://colab.research.google.com/assets/colab-badge.svg\" alt=\"Open In Colab\"/></a>"
      ]
    },
    {
      "source": [
        "\n",
        "# IMPORTANT: RUN THIS CELL IN ORDER TO IMPORT YOUR KAGGLE DATA SOURCES\n",
        "# TO THE CORRECT LOCATION (/kaggle/input) IN YOUR NOTEBOOK,\n",
        "# THEN FEEL FREE TO DELETE THIS CELL.\n",
        "# NOTE: THIS NOTEBOOK ENVIRONMENT DIFFERS FROM KAGGLE'S PYTHON\n",
        "# ENVIRONMENT SO THERE MAY BE MISSING LIBRARIES USED BY YOUR\n",
        "# NOTEBOOK.\n",
        "\n",
        "import os\n",
        "import sys\n",
        "from tempfile import NamedTemporaryFile\n",
        "from urllib.request import urlopen\n",
        "from urllib.parse import unquote, urlparse\n",
        "from urllib.error import HTTPError\n",
        "from zipfile import ZipFile\n",
        "import tarfile\n",
        "import shutil\n",
        "\n",
        "CHUNK_SIZE = 40960\n",
        "DATA_SOURCE_MAPPING = 'spaceship-titanic:https%3A%2F%2Fstorage.googleapis.com%2Fkaggle-competitions-data%2Fkaggle-v2%2F34377%2F3220602%2Fbundle%2Farchive.zip%3FX-Goog-Algorithm%3DGOOG4-RSA-SHA256%26X-Goog-Credential%3Dgcp-kaggle-com%2540kaggle-161607.iam.gserviceaccount.com%252F20240517%252Fauto%252Fstorage%252Fgoog4_request%26X-Goog-Date%3D20240517T015421Z%26X-Goog-Expires%3D259200%26X-Goog-SignedHeaders%3Dhost%26X-Goog-Signature%3D221df93dd192cca0779d2f68afa12f97f172469df398912d37216c8e46db0ba5e43e98529e9ee1e120701a5ffc36fdb4db0187a77263d12a41a1945cc59365d32d3912919c2bc6baa3ac049c63fe7b1e560d1a1a2f6cde96f885d23496211fdac6a2a9707a7c557c76df1b53dc59c09a44ce370b5ab2953cd462629c95c0f4355c573537e54a163f1ea0d9c7cc3c1cdd0d0d54cd27fb392d9be677861e1a9ed23f6638dc2146fa2a959272f45c509af1bb134305c276e4f43d3958d99468789f28d6a7f8335fd01382bb8d27a7cdba62ef73d2dda9b2946459592cdba5893cc333d571421b956e80a6eb97dae51dc40d9bc9c1929416220f566280b5a6836605'\n",
        "\n",
        "KAGGLE_INPUT_PATH='/kaggle/input'\n",
        "KAGGLE_WORKING_PATH='/kaggle/working'\n",
        "KAGGLE_SYMLINK='kaggle'\n",
        "\n",
        "!umount /kaggle/input/ 2> /dev/null\n",
        "shutil.rmtree('/kaggle/input', ignore_errors=True)\n",
        "os.makedirs(KAGGLE_INPUT_PATH, 0o777, exist_ok=True)\n",
        "os.makedirs(KAGGLE_WORKING_PATH, 0o777, exist_ok=True)\n",
        "\n",
        "try:\n",
        "  os.symlink(KAGGLE_INPUT_PATH, os.path.join(\"..\", 'input'), target_is_directory=True)\n",
        "except FileExistsError:\n",
        "  pass\n",
        "try:\n",
        "  os.symlink(KAGGLE_WORKING_PATH, os.path.join(\"..\", 'working'), target_is_directory=True)\n",
        "except FileExistsError:\n",
        "  pass\n",
        "\n",
        "for data_source_mapping in DATA_SOURCE_MAPPING.split(','):\n",
        "    directory, download_url_encoded = data_source_mapping.split(':')\n",
        "    download_url = unquote(download_url_encoded)\n",
        "    filename = urlparse(download_url).path\n",
        "    destination_path = os.path.join(KAGGLE_INPUT_PATH, directory)\n",
        "    try:\n",
        "        with urlopen(download_url) as fileres, NamedTemporaryFile() as tfile:\n",
        "            total_length = fileres.headers['content-length']\n",
        "            print(f'Downloading {directory}, {total_length} bytes compressed')\n",
        "            dl = 0\n",
        "            data = fileres.read(CHUNK_SIZE)\n",
        "            while len(data) > 0:\n",
        "                dl += len(data)\n",
        "                tfile.write(data)\n",
        "                done = int(50 * dl / int(total_length))\n",
        "                sys.stdout.write(f\"\\r[{'=' * done}{' ' * (50-done)}] {dl} bytes downloaded\")\n",
        "                sys.stdout.flush()\n",
        "                data = fileres.read(CHUNK_SIZE)\n",
        "            if filename.endswith('.zip'):\n",
        "              with ZipFile(tfile) as zfile:\n",
        "                zfile.extractall(destination_path)\n",
        "            else:\n",
        "              with tarfile.open(tfile.name) as tarfile:\n",
        "                tarfile.extractall(destination_path)\n",
        "            print(f'\\nDownloaded and uncompressed: {directory}')\n",
        "    except HTTPError as e:\n",
        "        print(f'Failed to load (likely expired) {download_url} to path {destination_path}')\n",
        "        continue\n",
        "    except OSError as e:\n",
        "        print(f'Failed to load {download_url} to path {destination_path}')\n",
        "        continue\n",
        "\n",
        "print('Data source import complete.')\n"
      ],
      "metadata": {
        "id": "mj1e7B1EQeLx"
      },
      "cell_type": "code",
      "outputs": [],
      "execution_count": null
    },
    {
      "cell_type": "code",
      "source": [
        "# This Python 3 environment comes with many helpful analytics libraries installed\n",
        "# It is defined by the kaggle/python Docker image: https://github.com/kaggle/docker-python\n",
        "# For example, here's several helpful packages to load\n",
        "\n",
        "import numpy as np # linear algebra\n",
        "import pandas as pd # data processing, CSV file I/O (e.g. pd.read_csv)\n",
        "\n",
        "# Input data files are available in the read-only \"../input/\" directory\n",
        "# For example, running this (by clicking run or pressing Shift+Enter) will list all files under the input directory\n",
        "\n",
        "import os\n",
        "for dirname, _, filenames in os.walk('/kaggle/input'):\n",
        "    for filename in filenames:\n",
        "        print(os.path.join(dirname, filename))\n",
        "\n",
        "# You can write up to 20GB to the current directory (/kaggle/working/) that gets preserved as output when you create a version using \"Save & Run All\"\n",
        "# You can also write temporary files to /kaggle/temp/, but they won't be saved outside of the current session"
      ],
      "metadata": {
        "_uuid": "8f2839f25d086af736a60e9eeb907d3b93b6e0e5",
        "_cell_guid": "b1076dfc-b9ad-4769-8c92-a6c4dae69d19",
        "execution": {
          "iopub.status.busy": "2024-05-02T17:39:57.127154Z",
          "iopub.status.idle": "2024-05-02T17:39:57.128066Z",
          "shell.execute_reply.started": "2024-05-02T17:39:57.127743Z",
          "shell.execute_reply": "2024-05-02T17:39:57.127769Z"
        },
        "trusted": true,
        "id": "2P7OuaBCQeLz"
      },
      "execution_count": null,
      "outputs": []
    },
    {
      "cell_type": "code",
      "source": [
        "import pandas as pd\n",
        "import numpy as np\n",
        "from sklearn.preprocessing import LabelEncoder\n",
        "from sklearn.model_selection import train_test_split\n",
        "from sklearn.model_selection import RandomizedSearchCV\n",
        "from sklearn.metrics import accuracy_score\n",
        "from xgboost import XGBClassifier\n",
        "from scipy.stats import uniform, randint\n",
        "from sklearn.ensemble import RandomForestClassifier\n",
        "from sklearn.model_selection import KFold, StratifiedKFold"
      ],
      "metadata": {
        "execution": {
          "iopub.status.busy": "2024-05-08T19:48:35.8475Z",
          "iopub.execute_input": "2024-05-08T19:48:35.847942Z",
          "iopub.status.idle": "2024-05-08T19:48:37.574133Z",
          "shell.execute_reply.started": "2024-05-08T19:48:35.847909Z",
          "shell.execute_reply": "2024-05-08T19:48:37.572633Z"
        },
        "trusted": true,
        "id": "_Jt2UF6wQeLz"
      },
      "execution_count": null,
      "outputs": []
    },
    {
      "cell_type": "code",
      "source": [
        "train_csv = pd.read_csv(\"/kaggle/input/spaceship-titanic/train.csv\")"
      ],
      "metadata": {
        "execution": {
          "iopub.status.busy": "2024-05-08T19:48:37.576516Z",
          "iopub.execute_input": "2024-05-08T19:48:37.577062Z",
          "iopub.status.idle": "2024-05-08T19:48:37.650291Z",
          "shell.execute_reply.started": "2024-05-08T19:48:37.577029Z",
          "shell.execute_reply": "2024-05-08T19:48:37.649065Z"
        },
        "trusted": true,
        "id": "66p-LnjQQeLz"
      },
      "execution_count": null,
      "outputs": []
    },
    {
      "cell_type": "code",
      "source": [
        "train_csv.head()"
      ],
      "metadata": {
        "execution": {
          "iopub.status.busy": "2024-05-08T19:48:37.652167Z",
          "iopub.execute_input": "2024-05-08T19:48:37.652937Z",
          "iopub.status.idle": "2024-05-08T19:48:37.688876Z",
          "shell.execute_reply.started": "2024-05-08T19:48:37.652903Z",
          "shell.execute_reply": "2024-05-08T19:48:37.687527Z"
        },
        "trusted": true,
        "id": "kF1uQ7eSQeL0",
        "outputId": "4b27cf4b-b1ab-4d73-9497-1c289e397a21"
      },
      "execution_count": null,
      "outputs": [
        {
          "execution_count": 4,
          "output_type": "execute_result",
          "data": {
            "text/plain": "  PassengerId HomePlanet CryoSleep  Cabin  Destination   Age    VIP  \\\n0     0001_01     Europa     False  B/0/P  TRAPPIST-1e  39.0  False   \n1     0002_01      Earth     False  F/0/S  TRAPPIST-1e  24.0  False   \n2     0003_01     Europa     False  A/0/S  TRAPPIST-1e  58.0   True   \n3     0003_02     Europa     False  A/0/S  TRAPPIST-1e  33.0  False   \n4     0004_01      Earth     False  F/1/S  TRAPPIST-1e  16.0  False   \n\n   RoomService  FoodCourt  ShoppingMall     Spa  VRDeck               Name  \\\n0          0.0        0.0           0.0     0.0     0.0    Maham Ofracculy   \n1        109.0        9.0          25.0   549.0    44.0       Juanna Vines   \n2         43.0     3576.0           0.0  6715.0    49.0      Altark Susent   \n3          0.0     1283.0         371.0  3329.0   193.0       Solam Susent   \n4        303.0       70.0         151.0   565.0     2.0  Willy Santantines   \n\n   Transported  \n0        False  \n1         True  \n2        False  \n3        False  \n4         True  ",
            "text/html": "<div>\n<style scoped>\n    .dataframe tbody tr th:only-of-type {\n        vertical-align: middle;\n    }\n\n    .dataframe tbody tr th {\n        vertical-align: top;\n    }\n\n    .dataframe thead th {\n        text-align: right;\n    }\n</style>\n<table border=\"1\" class=\"dataframe\">\n  <thead>\n    <tr style=\"text-align: right;\">\n      <th></th>\n      <th>PassengerId</th>\n      <th>HomePlanet</th>\n      <th>CryoSleep</th>\n      <th>Cabin</th>\n      <th>Destination</th>\n      <th>Age</th>\n      <th>VIP</th>\n      <th>RoomService</th>\n      <th>FoodCourt</th>\n      <th>ShoppingMall</th>\n      <th>Spa</th>\n      <th>VRDeck</th>\n      <th>Name</th>\n      <th>Transported</th>\n    </tr>\n  </thead>\n  <tbody>\n    <tr>\n      <th>0</th>\n      <td>0001_01</td>\n      <td>Europa</td>\n      <td>False</td>\n      <td>B/0/P</td>\n      <td>TRAPPIST-1e</td>\n      <td>39.0</td>\n      <td>False</td>\n      <td>0.0</td>\n      <td>0.0</td>\n      <td>0.0</td>\n      <td>0.0</td>\n      <td>0.0</td>\n      <td>Maham Ofracculy</td>\n      <td>False</td>\n    </tr>\n    <tr>\n      <th>1</th>\n      <td>0002_01</td>\n      <td>Earth</td>\n      <td>False</td>\n      <td>F/0/S</td>\n      <td>TRAPPIST-1e</td>\n      <td>24.0</td>\n      <td>False</td>\n      <td>109.0</td>\n      <td>9.0</td>\n      <td>25.0</td>\n      <td>549.0</td>\n      <td>44.0</td>\n      <td>Juanna Vines</td>\n      <td>True</td>\n    </tr>\n    <tr>\n      <th>2</th>\n      <td>0003_01</td>\n      <td>Europa</td>\n      <td>False</td>\n      <td>A/0/S</td>\n      <td>TRAPPIST-1e</td>\n      <td>58.0</td>\n      <td>True</td>\n      <td>43.0</td>\n      <td>3576.0</td>\n      <td>0.0</td>\n      <td>6715.0</td>\n      <td>49.0</td>\n      <td>Altark Susent</td>\n      <td>False</td>\n    </tr>\n    <tr>\n      <th>3</th>\n      <td>0003_02</td>\n      <td>Europa</td>\n      <td>False</td>\n      <td>A/0/S</td>\n      <td>TRAPPIST-1e</td>\n      <td>33.0</td>\n      <td>False</td>\n      <td>0.0</td>\n      <td>1283.0</td>\n      <td>371.0</td>\n      <td>3329.0</td>\n      <td>193.0</td>\n      <td>Solam Susent</td>\n      <td>False</td>\n    </tr>\n    <tr>\n      <th>4</th>\n      <td>0004_01</td>\n      <td>Earth</td>\n      <td>False</td>\n      <td>F/1/S</td>\n      <td>TRAPPIST-1e</td>\n      <td>16.0</td>\n      <td>False</td>\n      <td>303.0</td>\n      <td>70.0</td>\n      <td>151.0</td>\n      <td>565.0</td>\n      <td>2.0</td>\n      <td>Willy Santantines</td>\n      <td>True</td>\n    </tr>\n  </tbody>\n</table>\n</div>"
          },
          "metadata": {}
        }
      ]
    },
    {
      "cell_type": "code",
      "source": [
        "#creating some features based on Cabin column\n",
        "train_csv[[\"Deck\", \"Num\", \"Side\"]] = train_csv[\"Cabin\"].str.split(\"/\", expand = True)\n",
        "train_csv.drop(columns = [\"Cabin\", \"Name\"], inplace = True)"
      ],
      "metadata": {
        "execution": {
          "iopub.status.busy": "2024-05-08T19:48:37.691824Z",
          "iopub.execute_input": "2024-05-08T19:48:37.692209Z",
          "iopub.status.idle": "2024-05-08T19:48:37.727075Z",
          "shell.execute_reply.started": "2024-05-08T19:48:37.692177Z",
          "shell.execute_reply": "2024-05-08T19:48:37.725943Z"
        },
        "trusted": true,
        "id": "jsWNyssPQeL0"
      },
      "execution_count": null,
      "outputs": []
    },
    {
      "cell_type": "code",
      "source": [
        "train_csv.info()"
      ],
      "metadata": {
        "execution": {
          "iopub.status.busy": "2024-05-08T19:48:37.728499Z",
          "iopub.execute_input": "2024-05-08T19:48:37.729684Z",
          "iopub.status.idle": "2024-05-08T19:48:37.761253Z",
          "shell.execute_reply.started": "2024-05-08T19:48:37.729652Z",
          "shell.execute_reply": "2024-05-08T19:48:37.760171Z"
        },
        "trusted": true,
        "id": "jnnra9fJQeL0",
        "outputId": "49169710-c945-4b1b-a098-c87ea75fee75"
      },
      "execution_count": null,
      "outputs": [
        {
          "name": "stdout",
          "text": "<class 'pandas.core.frame.DataFrame'>\nRangeIndex: 8693 entries, 0 to 8692\nData columns (total 15 columns):\n #   Column        Non-Null Count  Dtype  \n---  ------        --------------  -----  \n 0   PassengerId   8693 non-null   object \n 1   HomePlanet    8492 non-null   object \n 2   CryoSleep     8476 non-null   object \n 3   Destination   8511 non-null   object \n 4   Age           8514 non-null   float64\n 5   VIP           8490 non-null   object \n 6   RoomService   8512 non-null   float64\n 7   FoodCourt     8510 non-null   float64\n 8   ShoppingMall  8485 non-null   float64\n 9   Spa           8510 non-null   float64\n 10  VRDeck        8505 non-null   float64\n 11  Transported   8693 non-null   bool   \n 12  Deck          8494 non-null   object \n 13  Num           8494 non-null   object \n 14  Side          8494 non-null   object \ndtypes: bool(1), float64(6), object(8)\nmemory usage: 959.4+ KB\n",
          "output_type": "stream"
        }
      ]
    },
    {
      "cell_type": "markdown",
      "source": [
        "* RoomService, FoodCourt, ShoppingMall, Spa, VRDeck -> fill up with mean\n",
        "* Age, Deck, Num, Side, CryoSleep, HomePlanet, VIP, Destination -> fill with max appear"
      ],
      "metadata": {
        "id": "cpt2izIrQeL0"
      }
    },
    {
      "cell_type": "code",
      "source": [
        "#deal with null and nan\n",
        "features_to_fill_mean = [\"RoomService\", \"ShoppingMall\", \"Spa\", \"VRDeck\", \"FoodCourt\"]\n",
        "features_to_fill_max_appearances = [\"Age\", \"Deck\", \"Num\", \"Side\", \"CryoSleep\", \"HomePlanet\", \"VIP\", \"Destination\"]\n",
        "\n",
        "train_csv[features_to_fill_mean] = train_csv[features_to_fill_mean].fillna(train_csv[features_to_fill_mean].mean())\n",
        "train_csv[features_to_fill_max_appearances] = train_csv[features_to_fill_max_appearances].fillna(train_csv[features_to_fill_max_appearances].mode().iloc[0])"
      ],
      "metadata": {
        "execution": {
          "iopub.status.busy": "2024-05-08T19:48:37.762543Z",
          "iopub.execute_input": "2024-05-08T19:48:37.762872Z",
          "iopub.status.idle": "2024-05-08T19:48:37.816654Z",
          "shell.execute_reply.started": "2024-05-08T19:48:37.762844Z",
          "shell.execute_reply": "2024-05-08T19:48:37.815526Z"
        },
        "trusted": true,
        "id": "6HHFPe80QeL1",
        "outputId": "38c1b7fd-ff0e-48cd-ebe0-807987f2e8f1"
      },
      "execution_count": null,
      "outputs": [
        {
          "name": "stderr",
          "text": "/tmp/ipykernel_33/3868937850.py:6: FutureWarning: Downcasting object dtype arrays on .fillna, .ffill, .bfill is deprecated and will change in a future version. Call result.infer_objects(copy=False) instead. To opt-in to the future behavior, set `pd.set_option('future.no_silent_downcasting', True)`\n  train_csv[features_to_fill_max_appearances] = train_csv[features_to_fill_max_appearances].fillna(train_csv[features_to_fill_max_appearances].mode().iloc[0])\n",
          "output_type": "stream"
        }
      ]
    },
    {
      "cell_type": "code",
      "source": [
        "#trying to create new features\n",
        "train_csv[\"TotalSpent\"] = train_csv[[\"RoomService\", \"FoodCourt\", \"ShoppingMall\", \"Spa\", \"VRDeck\"]].sum(axis=1)\n",
        "\n",
        "#Deal with passenger id gggg_pp -> gggg is the group and pp is the number within the group\n",
        "train_csv[[\"Group\", \"Position\"]] = train_csv[\"PassengerId\"].str.split(\"_\", expand = True)\n",
        "\n",
        "#Feature HomePlanet to End point\n",
        "train_csv[\"InitEnd\"] = train_csv[\"HomePlanet\"] + \"_\" + train_csv[\"Destination\"]\n",
        "\n",
        "#Creating the column with number of people in a group\n",
        "\n",
        "group_counts = train_csv[\"Group\"].value_counts()\n",
        "group_counts = group_counts.to_dict()\n",
        "train_csv[\"QtGroupMembers\"] = train_csv[\"Group\"].map(group_counts)"
      ],
      "metadata": {
        "execution": {
          "iopub.status.busy": "2024-05-08T19:48:37.818016Z",
          "iopub.execute_input": "2024-05-08T19:48:37.819336Z",
          "iopub.status.idle": "2024-05-08T19:48:37.865782Z",
          "shell.execute_reply.started": "2024-05-08T19:48:37.819303Z",
          "shell.execute_reply": "2024-05-08T19:48:37.864657Z"
        },
        "trusted": true,
        "id": "NoX0UyA_QeL2"
      },
      "execution_count": null,
      "outputs": []
    },
    {
      "cell_type": "code",
      "source": [
        "\n",
        "train_csv = pd.get_dummies(train_csv, columns=['HomePlanet', 'Deck', 'Side', \"Destination\", \"VIP\"])\n",
        "\n",
        "train_csv.head()"
      ],
      "metadata": {
        "execution": {
          "iopub.status.busy": "2024-05-08T19:48:37.86706Z",
          "iopub.execute_input": "2024-05-08T19:48:37.867362Z",
          "iopub.status.idle": "2024-05-08T19:48:37.915131Z",
          "shell.execute_reply.started": "2024-05-08T19:48:37.867336Z",
          "shell.execute_reply": "2024-05-08T19:48:37.914057Z"
        },
        "trusted": true,
        "id": "Moyc2cTAQeL2",
        "outputId": "1c1e6c22-5846-4838-c86f-34b22d2bcaa2"
      },
      "execution_count": null,
      "outputs": [
        {
          "execution_count": 9,
          "output_type": "execute_result",
          "data": {
            "text/plain": "  PassengerId  CryoSleep   Age  RoomService  FoodCourt  ShoppingMall     Spa  \\\n0     0001_01      False  39.0          0.0        0.0           0.0     0.0   \n1     0002_01      False  24.0        109.0        9.0          25.0   549.0   \n2     0003_01      False  58.0         43.0     3576.0           0.0  6715.0   \n3     0003_02      False  33.0          0.0     1283.0         371.0  3329.0   \n4     0004_01      False  16.0        303.0       70.0         151.0   565.0   \n\n   VRDeck  Transported Num  ...  Deck_F Deck_G Deck_T Side_P  Side_S  \\\n0     0.0        False   0  ...   False  False  False   True   False   \n1    44.0         True   0  ...    True  False  False  False    True   \n2    49.0        False   0  ...   False  False  False  False    True   \n3   193.0        False   0  ...   False  False  False  False    True   \n4     2.0         True   1  ...    True  False  False  False    True   \n\n   Destination_55 Cancri e  Destination_PSO J318.5-22  \\\n0                    False                      False   \n1                    False                      False   \n2                    False                      False   \n3                    False                      False   \n4                    False                      False   \n\n   Destination_TRAPPIST-1e  VIP_False  VIP_True  \n0                     True       True     False  \n1                     True       True     False  \n2                     True      False      True  \n3                     True       True     False  \n4                     True       True     False  \n\n[5 rows x 33 columns]",
            "text/html": "<div>\n<style scoped>\n    .dataframe tbody tr th:only-of-type {\n        vertical-align: middle;\n    }\n\n    .dataframe tbody tr th {\n        vertical-align: top;\n    }\n\n    .dataframe thead th {\n        text-align: right;\n    }\n</style>\n<table border=\"1\" class=\"dataframe\">\n  <thead>\n    <tr style=\"text-align: right;\">\n      <th></th>\n      <th>PassengerId</th>\n      <th>CryoSleep</th>\n      <th>Age</th>\n      <th>RoomService</th>\n      <th>FoodCourt</th>\n      <th>ShoppingMall</th>\n      <th>Spa</th>\n      <th>VRDeck</th>\n      <th>Transported</th>\n      <th>Num</th>\n      <th>...</th>\n      <th>Deck_F</th>\n      <th>Deck_G</th>\n      <th>Deck_T</th>\n      <th>Side_P</th>\n      <th>Side_S</th>\n      <th>Destination_55 Cancri e</th>\n      <th>Destination_PSO J318.5-22</th>\n      <th>Destination_TRAPPIST-1e</th>\n      <th>VIP_False</th>\n      <th>VIP_True</th>\n    </tr>\n  </thead>\n  <tbody>\n    <tr>\n      <th>0</th>\n      <td>0001_01</td>\n      <td>False</td>\n      <td>39.0</td>\n      <td>0.0</td>\n      <td>0.0</td>\n      <td>0.0</td>\n      <td>0.0</td>\n      <td>0.0</td>\n      <td>False</td>\n      <td>0</td>\n      <td>...</td>\n      <td>False</td>\n      <td>False</td>\n      <td>False</td>\n      <td>True</td>\n      <td>False</td>\n      <td>False</td>\n      <td>False</td>\n      <td>True</td>\n      <td>True</td>\n      <td>False</td>\n    </tr>\n    <tr>\n      <th>1</th>\n      <td>0002_01</td>\n      <td>False</td>\n      <td>24.0</td>\n      <td>109.0</td>\n      <td>9.0</td>\n      <td>25.0</td>\n      <td>549.0</td>\n      <td>44.0</td>\n      <td>True</td>\n      <td>0</td>\n      <td>...</td>\n      <td>True</td>\n      <td>False</td>\n      <td>False</td>\n      <td>False</td>\n      <td>True</td>\n      <td>False</td>\n      <td>False</td>\n      <td>True</td>\n      <td>True</td>\n      <td>False</td>\n    </tr>\n    <tr>\n      <th>2</th>\n      <td>0003_01</td>\n      <td>False</td>\n      <td>58.0</td>\n      <td>43.0</td>\n      <td>3576.0</td>\n      <td>0.0</td>\n      <td>6715.0</td>\n      <td>49.0</td>\n      <td>False</td>\n      <td>0</td>\n      <td>...</td>\n      <td>False</td>\n      <td>False</td>\n      <td>False</td>\n      <td>False</td>\n      <td>True</td>\n      <td>False</td>\n      <td>False</td>\n      <td>True</td>\n      <td>False</td>\n      <td>True</td>\n    </tr>\n    <tr>\n      <th>3</th>\n      <td>0003_02</td>\n      <td>False</td>\n      <td>33.0</td>\n      <td>0.0</td>\n      <td>1283.0</td>\n      <td>371.0</td>\n      <td>3329.0</td>\n      <td>193.0</td>\n      <td>False</td>\n      <td>0</td>\n      <td>...</td>\n      <td>False</td>\n      <td>False</td>\n      <td>False</td>\n      <td>False</td>\n      <td>True</td>\n      <td>False</td>\n      <td>False</td>\n      <td>True</td>\n      <td>True</td>\n      <td>False</td>\n    </tr>\n    <tr>\n      <th>4</th>\n      <td>0004_01</td>\n      <td>False</td>\n      <td>16.0</td>\n      <td>303.0</td>\n      <td>70.0</td>\n      <td>151.0</td>\n      <td>565.0</td>\n      <td>2.0</td>\n      <td>True</td>\n      <td>1</td>\n      <td>...</td>\n      <td>True</td>\n      <td>False</td>\n      <td>False</td>\n      <td>False</td>\n      <td>True</td>\n      <td>False</td>\n      <td>False</td>\n      <td>True</td>\n      <td>True</td>\n      <td>False</td>\n    </tr>\n  </tbody>\n</table>\n<p>5 rows × 33 columns</p>\n</div>"
          },
          "metadata": {}
        }
      ]
    },
    {
      "cell_type": "code",
      "source": [
        "columns = train_csv.columns\n",
        "print(columns)"
      ],
      "metadata": {
        "execution": {
          "iopub.status.busy": "2024-05-08T19:48:37.916443Z",
          "iopub.execute_input": "2024-05-08T19:48:37.916808Z",
          "iopub.status.idle": "2024-05-08T19:48:37.924737Z",
          "shell.execute_reply.started": "2024-05-08T19:48:37.91678Z",
          "shell.execute_reply": "2024-05-08T19:48:37.923325Z"
        },
        "trusted": true,
        "id": "CHKsZHdJQeL3",
        "outputId": "98197058-5b91-4e5e-a286-a2bc45389159"
      },
      "execution_count": null,
      "outputs": [
        {
          "name": "stdout",
          "text": "Index(['PassengerId', 'CryoSleep', 'Age', 'RoomService', 'FoodCourt',\n       'ShoppingMall', 'Spa', 'VRDeck', 'Transported', 'Num', 'TotalSpent',\n       'Group', 'Position', 'InitEnd', 'QtGroupMembers', 'HomePlanet_Earth',\n       'HomePlanet_Europa', 'HomePlanet_Mars', 'Deck_A', 'Deck_B', 'Deck_C',\n       'Deck_D', 'Deck_E', 'Deck_F', 'Deck_G', 'Deck_T', 'Side_P', 'Side_S',\n       'Destination_55 Cancri e', 'Destination_PSO J318.5-22',\n       'Destination_TRAPPIST-1e', 'VIP_False', 'VIP_True'],\n      dtype='object')\n",
          "output_type": "stream"
        }
      ]
    },
    {
      "cell_type": "code",
      "source": [
        "#now its necessary encode categorical data\n",
        "train_csv.drop(columns = [\"PassengerId\"])\n",
        "le = LabelEncoder()\n",
        "\n",
        "encodings = [\"Transported\", \"Group\", \"Position\", \"InitEnd\", 'HomePlanet_Earth', 'HomePlanet_Europa',\n",
        "            'HomePlanet_Mars', 'Deck_A', 'Deck_B', 'Deck_C', 'Deck_D', 'Deck_E', 'Deck_F', 'Deck_G',\n",
        "            'Deck_T', 'Side_P', 'Side_S', 'CryoSleep','Destination_55 Cancri e',\n",
        "            'Destination_PSO J318.5-22', 'Destination_TRAPPIST-1e', 'VIP_False', 'VIP_True']\n",
        "\n",
        "for encode in encodings:\n",
        "    le.fit(train_csv[encode])\n",
        "    train_csv[encode] = le.transform(train_csv[encode])"
      ],
      "metadata": {
        "execution": {
          "iopub.status.busy": "2024-05-08T19:48:37.92783Z",
          "iopub.execute_input": "2024-05-08T19:48:37.928159Z",
          "iopub.status.idle": "2024-05-08T19:48:37.988955Z",
          "shell.execute_reply.started": "2024-05-08T19:48:37.92812Z",
          "shell.execute_reply": "2024-05-08T19:48:37.988059Z"
        },
        "trusted": true,
        "id": "EeYOuwE4QeL3"
      },
      "execution_count": null,
      "outputs": []
    },
    {
      "cell_type": "code",
      "source": [
        "train_csv.head()"
      ],
      "metadata": {
        "execution": {
          "iopub.status.busy": "2024-05-08T19:48:38.150635Z",
          "iopub.execute_input": "2024-05-08T19:48:38.15179Z",
          "iopub.status.idle": "2024-05-08T19:48:38.179621Z",
          "shell.execute_reply.started": "2024-05-08T19:48:38.151754Z",
          "shell.execute_reply": "2024-05-08T19:48:38.178252Z"
        },
        "trusted": true,
        "id": "LgwyBF7zQeL4",
        "outputId": "5975d3ec-bba9-4ac6-b078-179d384393a6"
      },
      "execution_count": null,
      "outputs": [
        {
          "execution_count": 12,
          "output_type": "execute_result",
          "data": {
            "text/plain": "  PassengerId  CryoSleep   Age  RoomService  FoodCourt  ShoppingMall     Spa  \\\n0     0001_01          0  39.0          0.0        0.0           0.0     0.0   \n1     0002_01          0  24.0        109.0        9.0          25.0   549.0   \n2     0003_01          0  58.0         43.0     3576.0           0.0  6715.0   \n3     0003_02          0  33.0          0.0     1283.0         371.0  3329.0   \n4     0004_01          0  16.0        303.0       70.0         151.0   565.0   \n\n   VRDeck  Transported Num  ...  Deck_F  Deck_G  Deck_T  Side_P  Side_S  \\\n0     0.0            0   0  ...       0       0       0       1       0   \n1    44.0            1   0  ...       1       0       0       0       1   \n2    49.0            0   0  ...       0       0       0       0       1   \n3   193.0            0   0  ...       0       0       0       0       1   \n4     2.0            1   1  ...       1       0       0       0       1   \n\n   Destination_55 Cancri e  Destination_PSO J318.5-22  \\\n0                        0                          0   \n1                        0                          0   \n2                        0                          0   \n3                        0                          0   \n4                        0                          0   \n\n   Destination_TRAPPIST-1e  VIP_False  VIP_True  \n0                        1          1         0  \n1                        1          1         0  \n2                        1          0         1  \n3                        1          1         0  \n4                        1          1         0  \n\n[5 rows x 33 columns]",
            "text/html": "<div>\n<style scoped>\n    .dataframe tbody tr th:only-of-type {\n        vertical-align: middle;\n    }\n\n    .dataframe tbody tr th {\n        vertical-align: top;\n    }\n\n    .dataframe thead th {\n        text-align: right;\n    }\n</style>\n<table border=\"1\" class=\"dataframe\">\n  <thead>\n    <tr style=\"text-align: right;\">\n      <th></th>\n      <th>PassengerId</th>\n      <th>CryoSleep</th>\n      <th>Age</th>\n      <th>RoomService</th>\n      <th>FoodCourt</th>\n      <th>ShoppingMall</th>\n      <th>Spa</th>\n      <th>VRDeck</th>\n      <th>Transported</th>\n      <th>Num</th>\n      <th>...</th>\n      <th>Deck_F</th>\n      <th>Deck_G</th>\n      <th>Deck_T</th>\n      <th>Side_P</th>\n      <th>Side_S</th>\n      <th>Destination_55 Cancri e</th>\n      <th>Destination_PSO J318.5-22</th>\n      <th>Destination_TRAPPIST-1e</th>\n      <th>VIP_False</th>\n      <th>VIP_True</th>\n    </tr>\n  </thead>\n  <tbody>\n    <tr>\n      <th>0</th>\n      <td>0001_01</td>\n      <td>0</td>\n      <td>39.0</td>\n      <td>0.0</td>\n      <td>0.0</td>\n      <td>0.0</td>\n      <td>0.0</td>\n      <td>0.0</td>\n      <td>0</td>\n      <td>0</td>\n      <td>...</td>\n      <td>0</td>\n      <td>0</td>\n      <td>0</td>\n      <td>1</td>\n      <td>0</td>\n      <td>0</td>\n      <td>0</td>\n      <td>1</td>\n      <td>1</td>\n      <td>0</td>\n    </tr>\n    <tr>\n      <th>1</th>\n      <td>0002_01</td>\n      <td>0</td>\n      <td>24.0</td>\n      <td>109.0</td>\n      <td>9.0</td>\n      <td>25.0</td>\n      <td>549.0</td>\n      <td>44.0</td>\n      <td>1</td>\n      <td>0</td>\n      <td>...</td>\n      <td>1</td>\n      <td>0</td>\n      <td>0</td>\n      <td>0</td>\n      <td>1</td>\n      <td>0</td>\n      <td>0</td>\n      <td>1</td>\n      <td>1</td>\n      <td>0</td>\n    </tr>\n    <tr>\n      <th>2</th>\n      <td>0003_01</td>\n      <td>0</td>\n      <td>58.0</td>\n      <td>43.0</td>\n      <td>3576.0</td>\n      <td>0.0</td>\n      <td>6715.0</td>\n      <td>49.0</td>\n      <td>0</td>\n      <td>0</td>\n      <td>...</td>\n      <td>0</td>\n      <td>0</td>\n      <td>0</td>\n      <td>0</td>\n      <td>1</td>\n      <td>0</td>\n      <td>0</td>\n      <td>1</td>\n      <td>0</td>\n      <td>1</td>\n    </tr>\n    <tr>\n      <th>3</th>\n      <td>0003_02</td>\n      <td>0</td>\n      <td>33.0</td>\n      <td>0.0</td>\n      <td>1283.0</td>\n      <td>371.0</td>\n      <td>3329.0</td>\n      <td>193.0</td>\n      <td>0</td>\n      <td>0</td>\n      <td>...</td>\n      <td>0</td>\n      <td>0</td>\n      <td>0</td>\n      <td>0</td>\n      <td>1</td>\n      <td>0</td>\n      <td>0</td>\n      <td>1</td>\n      <td>1</td>\n      <td>0</td>\n    </tr>\n    <tr>\n      <th>4</th>\n      <td>0004_01</td>\n      <td>0</td>\n      <td>16.0</td>\n      <td>303.0</td>\n      <td>70.0</td>\n      <td>151.0</td>\n      <td>565.0</td>\n      <td>2.0</td>\n      <td>1</td>\n      <td>1</td>\n      <td>...</td>\n      <td>1</td>\n      <td>0</td>\n      <td>0</td>\n      <td>0</td>\n      <td>1</td>\n      <td>0</td>\n      <td>0</td>\n      <td>1</td>\n      <td>1</td>\n      <td>0</td>\n    </tr>\n  </tbody>\n</table>\n<p>5 rows × 33 columns</p>\n</div>"
          },
          "metadata": {}
        }
      ]
    },
    {
      "cell_type": "code",
      "source": [
        "corr = abs(train_csv.corr()[\"Transported\"]).sort_values(ascending=False)\n",
        "print(corr)"
      ],
      "metadata": {
        "execution": {
          "iopub.status.busy": "2024-05-08T19:48:39.716938Z",
          "iopub.execute_input": "2024-05-08T19:48:39.717311Z",
          "iopub.status.idle": "2024-05-08T19:48:39.761739Z",
          "shell.execute_reply.started": "2024-05-08T19:48:39.717284Z",
          "shell.execute_reply": "2024-05-08T19:48:39.760336Z"
        },
        "trusted": true,
        "id": "gWTKxKJVQeL4",
        "outputId": "be4455dc-74bd-4701-d3b2-458f99d6a197"
      },
      "execution_count": null,
      "outputs": [
        {
          "name": "stdout",
          "text": "Transported                  1.000000\nCryoSleep                    0.460132\nRoomService                  0.242048\nSpa                          0.218791\nVRDeck                       0.204825\nTotalSpent                   0.199445\nHomePlanet_Europa            0.176916\nHomePlanet_Earth             0.168845\nDeck_B                       0.144733\nDestination_55 Cancri e      0.108722\nDeck_C                       0.108193\nSide_S                       0.101397\nSide_P                       0.101397\nDeck_E                       0.097965\nDestination_TRAPPIST-1e      0.096319\nDeck_F                       0.086360\nQtGroupMembers               0.082644\nAge                          0.074153\nInitEnd                      0.073520\nPosition                     0.066390\nFoodCourt                    0.046074\nNum                          0.044012\nVIP_True                     0.037261\nVIP_False                    0.037261\nDeck_D                       0.034046\nGroup                        0.021825\nPassengerId                  0.021491\nHomePlanet_Mars              0.019544\nDeck_G                       0.016269\nDeck_T                       0.014568\nShoppingMall                 0.010019\nDeck_A                       0.002623\nDestination_PSO J318.5-22    0.000092\nName: Transported, dtype: float64\n",
          "output_type": "stream"
        }
      ]
    },
    {
      "cell_type": "code",
      "source": [
        "# features_selected = [\"CryoSleep\",\"RoomService\", \"Spa\", \"VRDeck\", \"TotalSpent\", \"HomePlanet\", \"Deck\", \"Destination\", \"Side\", \"QtGroupMembers\", \"Age\", \"InitEnd\"]\n",
        "#features_selected = [\"CryoSleep\", \"RoomService\", \"Spa\", \"VRDeck\", \"TotalSpent\", \"HomePlanet_Europa\", \"HomePlanet_Earth\", \"Deck_B\", \"Deck_C\", \"Destination\", \"Side_S\", \"Side_P\"]\n",
        "features_selected = [\"CryoSleep\", \"RoomService\", \"Spa\", \"VRDeck\", \"TotalSpent\", \"HomePlanet_Europa\", \"HomePlanet_Earth\", \"Deck_B\", \"Destination_55 Cancri e\",\n",
        "                    \"Deck_C\", \"Side_S\"]\n",
        "\n",
        "Y = train_csv[\"Transported\"]\n",
        "train_csv = train_csv[features_selected]\n",
        "train_csv[\"TotalSpent\"] = train_csv[\"TotalSpent\"]/train_csv[\"TotalSpent\"].max()\n",
        "train_csv[\"VRDeck\"] = train_csv[\"VRDeck\"]/train_csv[\"VRDeck\"].max()\n",
        "train_csv[\"Spa\"] = train_csv[\"Spa\"]/train_csv[\"Spa\"].max()\n",
        "train_csv[\"RoomService\"] = train_csv[\"RoomService\"]/train_csv[\"RoomService\"].max()"
      ],
      "metadata": {
        "execution": {
          "iopub.status.busy": "2024-05-08T19:48:40.146675Z",
          "iopub.execute_input": "2024-05-08T19:48:40.1471Z",
          "iopub.status.idle": "2024-05-08T19:48:40.159889Z",
          "shell.execute_reply.started": "2024-05-08T19:48:40.147068Z",
          "shell.execute_reply": "2024-05-08T19:48:40.158549Z"
        },
        "trusted": true,
        "id": "Ci8TIuZVQeL5"
      },
      "execution_count": null,
      "outputs": []
    },
    {
      "cell_type": "code",
      "source": [
        "# train_csv[\"Age\"] = train_csv[\"Age\"]/train_csv[\"Age\"].max()\n",
        "# train_csv.head()"
      ],
      "metadata": {
        "execution": {
          "iopub.status.busy": "2024-05-02T03:33:32.012494Z",
          "iopub.execute_input": "2024-05-02T03:33:32.013409Z",
          "iopub.status.idle": "2024-05-02T03:33:32.035116Z",
          "shell.execute_reply.started": "2024-05-02T03:33:32.013367Z",
          "shell.execute_reply": "2024-05-02T03:33:32.033964Z"
        },
        "trusted": true,
        "id": "8fOOAe7HQeL5"
      },
      "execution_count": null,
      "outputs": []
    },
    {
      "cell_type": "code",
      "source": [
        "# X_train , X_test , y_train , y_test = train_test_split(train_csv, Y, test_size=0.2)"
      ],
      "metadata": {
        "execution": {
          "iopub.status.busy": "2024-05-02T03:33:32.686074Z",
          "iopub.execute_input": "2024-05-02T03:33:32.686433Z",
          "iopub.status.idle": "2024-05-02T03:33:32.691344Z",
          "shell.execute_reply.started": "2024-05-02T03:33:32.686404Z",
          "shell.execute_reply": "2024-05-02T03:33:32.690111Z"
        },
        "trusted": true,
        "id": "Jr8AsQLXQeL5"
      },
      "execution_count": null,
      "outputs": []
    },
    {
      "cell_type": "code",
      "source": [
        "# import tensorflow as tf\n",
        "# from tensorflow.keras import layers, models\n",
        "\n",
        "# kFold=StratifiedKFold(n_splits = 10, shuffle = True)\n",
        "\n",
        "# fold = 0\n",
        "# for train_index,test_index in kFold.split(np.zeros(Y.size),Y):\n",
        "\n",
        "#     X_train, X_test, y_train, y_test = train_csv.iloc[train_index], train_csv.iloc[test_index], Y.iloc[train_index], Y.iloc[test_index]\n",
        "\n",
        "#     train_dataset = tf.data.Dataset.from_tensor_slices((X_train, y_train))\n",
        "#     train_dataset = train_dataset.shuffle(buffer_size=len(train_dataset)).batch(64)\n",
        "\n",
        "#     model = models.Sequential([\n",
        "#             layers.Dense(256, activation='relu', input_shape=(train_csv.shape[1],)),\n",
        "#             layers.Dropout(rate = 0.5),\n",
        "#             layers.Dense(128, activation='relu'),\n",
        "#             layers.Dropout(rate = 0.5),\n",
        "#             layers.Dense(64, activation='relu'),\n",
        "#             layers.Dense(1, activation='sigmoid')\n",
        "#             ])\n",
        "\n",
        "#     model.compile(optimizer = \"Adam\",\n",
        "#                   loss = \"binary_crossentropy\",\n",
        "#                   metrics = [\"accuracy\"])\n",
        "\n",
        "#     history = model.fit(train_dataset, epochs = 100)\n",
        "\n",
        "#     model.save(f\"model_{fold}.h5\")\n",
        "#     fold+=1"
      ],
      "metadata": {
        "execution": {
          "iopub.status.busy": "2024-05-02T17:42:16.982482Z",
          "iopub.execute_input": "2024-05-02T17:42:16.982921Z",
          "iopub.status.idle": "2024-05-02T17:51:52.326736Z",
          "shell.execute_reply.started": "2024-05-02T17:42:16.982889Z",
          "shell.execute_reply": "2024-05-02T17:51:52.32557Z"
        },
        "trusted": true,
        "id": "r34hnWN2QeL5"
      },
      "execution_count": null,
      "outputs": []
    },
    {
      "cell_type": "code",
      "source": [
        "# from tensorflow.keras.models import load_model\n",
        "\n",
        "# val = []\n",
        "# for i in range(10):\n",
        "#     model = load_model(f\"model_{i}.h5\")\n",
        "#     val.append(model.evaluate(X_test, y_test)[1])\n",
        "\n",
        "# print(sum(val)/len(val))"
      ],
      "metadata": {
        "execution": {
          "iopub.status.busy": "2024-05-02T17:51:52.328604Z",
          "iopub.execute_input": "2024-05-02T17:51:52.329511Z",
          "iopub.status.idle": "2024-05-02T17:51:57.612595Z",
          "shell.execute_reply.started": "2024-05-02T17:51:52.329478Z",
          "shell.execute_reply": "2024-05-02T17:51:57.611387Z"
        },
        "trusted": true,
        "id": "_QdW8lK5QeL5"
      },
      "execution_count": null,
      "outputs": []
    },
    {
      "cell_type": "code",
      "source": [
        "from sklearn.ensemble import VotingClassifier\n",
        "from xgboost import XGBClassifier\n",
        "from catboost import CatBoostClassifier\n",
        "from lightgbm import LGBMClassifier\n",
        "\n",
        "lgbm_model = LGBMClassifier(learning_rate=0.05, max_depth=10, n_estimators=3000)\n",
        "#xgboost_model = XGBClassifier(learning_rate=0.05, max_depth=15, n_estimators=3000)\n",
        "catboost_model = CatBoostClassifier(learning_rate=0.05, max_depth=15, n_estimators=3000, verbose=0)\n",
        "\n",
        "voting_model = VotingClassifier([('xgb', lgbm_model), ('cb', catboost_model)])\n",
        "\n",
        "voting_model.fit(train_csv, Y)"
      ],
      "metadata": {
        "execution": {
          "iopub.status.busy": "2024-05-08T20:05:24.340858Z",
          "iopub.execute_input": "2024-05-08T20:05:24.341301Z",
          "iopub.status.idle": "2024-05-08T20:05:34.925307Z",
          "shell.execute_reply.started": "2024-05-08T20:05:24.341262Z",
          "shell.execute_reply": "2024-05-08T20:05:34.923835Z"
        },
        "trusted": true,
        "id": "rQBzOQRRQeL5",
        "outputId": "e381c6de-d5f9-443f-9e90-0f0c0a5a2852"
      },
      "execution_count": null,
      "outputs": [
        {
          "execution_count": 28,
          "output_type": "execute_result",
          "data": {
            "text/plain": "VotingClassifier(estimators=[('xgb',\n                              XGBClassifier(base_score=None, booster=None,\n                                            callbacks=None,\n                                            colsample_bylevel=None,\n                                            colsample_bynode=None,\n                                            colsample_bytree=None, device=None,\n                                            early_stopping_rounds=None,\n                                            enable_categorical=False,\n                                            eval_metric=None,\n                                            feature_types=None, gamma=None,\n                                            grow_policy=None,\n                                            importance_type=None,\n                                            interaction_constraints=None,\n                                            learning_rate=0.05, max_bin=None,\n                                            max_cat_threshold=None,\n                                            max_cat_to_onehot=None,\n                                            max_delta_step=None, max_depth=3,\n                                            max_leaves=None,\n                                            min_child_weight=None, missing=nan,\n                                            monotone_constraints=None,\n                                            multi_strategy=None,\n                                            n_estimators=2000, n_jobs=None,\n                                            num_parallel_tree=None,\n                                            random_state=None, ...)),\n                             ('cb',\n                              <catboost.core.CatBoostClassifier object at 0x7ce876804df0>)])",
            "text/html": "<style>#sk-container-id-4 {color: black;background-color: white;}#sk-container-id-4 pre{padding: 0;}#sk-container-id-4 div.sk-toggleable {background-color: white;}#sk-container-id-4 label.sk-toggleable__label {cursor: pointer;display: block;width: 100%;margin-bottom: 0;padding: 0.3em;box-sizing: border-box;text-align: center;}#sk-container-id-4 label.sk-toggleable__label-arrow:before {content: \"▸\";float: left;margin-right: 0.25em;color: #696969;}#sk-container-id-4 label.sk-toggleable__label-arrow:hover:before {color: black;}#sk-container-id-4 div.sk-estimator:hover label.sk-toggleable__label-arrow:before {color: black;}#sk-container-id-4 div.sk-toggleable__content {max-height: 0;max-width: 0;overflow: hidden;text-align: left;background-color: #f0f8ff;}#sk-container-id-4 div.sk-toggleable__content pre {margin: 0.2em;color: black;border-radius: 0.25em;background-color: #f0f8ff;}#sk-container-id-4 input.sk-toggleable__control:checked~div.sk-toggleable__content {max-height: 200px;max-width: 100%;overflow: auto;}#sk-container-id-4 input.sk-toggleable__control:checked~label.sk-toggleable__label-arrow:before {content: \"▾\";}#sk-container-id-4 div.sk-estimator input.sk-toggleable__control:checked~label.sk-toggleable__label {background-color: #d4ebff;}#sk-container-id-4 div.sk-label input.sk-toggleable__control:checked~label.sk-toggleable__label {background-color: #d4ebff;}#sk-container-id-4 input.sk-hidden--visually {border: 0;clip: rect(1px 1px 1px 1px);clip: rect(1px, 1px, 1px, 1px);height: 1px;margin: -1px;overflow: hidden;padding: 0;position: absolute;width: 1px;}#sk-container-id-4 div.sk-estimator {font-family: monospace;background-color: #f0f8ff;border: 1px dotted black;border-radius: 0.25em;box-sizing: border-box;margin-bottom: 0.5em;}#sk-container-id-4 div.sk-estimator:hover {background-color: #d4ebff;}#sk-container-id-4 div.sk-parallel-item::after {content: \"\";width: 100%;border-bottom: 1px solid gray;flex-grow: 1;}#sk-container-id-4 div.sk-label:hover label.sk-toggleable__label {background-color: #d4ebff;}#sk-container-id-4 div.sk-serial::before {content: \"\";position: absolute;border-left: 1px solid gray;box-sizing: border-box;top: 0;bottom: 0;left: 50%;z-index: 0;}#sk-container-id-4 div.sk-serial {display: flex;flex-direction: column;align-items: center;background-color: white;padding-right: 0.2em;padding-left: 0.2em;position: relative;}#sk-container-id-4 div.sk-item {position: relative;z-index: 1;}#sk-container-id-4 div.sk-parallel {display: flex;align-items: stretch;justify-content: center;background-color: white;position: relative;}#sk-container-id-4 div.sk-item::before, #sk-container-id-4 div.sk-parallel-item::before {content: \"\";position: absolute;border-left: 1px solid gray;box-sizing: border-box;top: 0;bottom: 0;left: 50%;z-index: -1;}#sk-container-id-4 div.sk-parallel-item {display: flex;flex-direction: column;z-index: 1;position: relative;background-color: white;}#sk-container-id-4 div.sk-parallel-item:first-child::after {align-self: flex-end;width: 50%;}#sk-container-id-4 div.sk-parallel-item:last-child::after {align-self: flex-start;width: 50%;}#sk-container-id-4 div.sk-parallel-item:only-child::after {width: 0;}#sk-container-id-4 div.sk-dashed-wrapped {border: 1px dashed gray;margin: 0 0.4em 0.5em 0.4em;box-sizing: border-box;padding-bottom: 0.4em;background-color: white;}#sk-container-id-4 div.sk-label label {font-family: monospace;font-weight: bold;display: inline-block;line-height: 1.2em;}#sk-container-id-4 div.sk-label-container {text-align: center;}#sk-container-id-4 div.sk-container {/* jupyter's `normalize.less` sets `[hidden] { display: none; }` but bootstrap.min.css set `[hidden] { display: none !important; }` so we also need the `!important` here to be able to override the default hidden behavior on the sphinx rendered scikit-learn.org. See: https://github.com/scikit-learn/scikit-learn/issues/21755 */display: inline-block !important;position: relative;}#sk-container-id-4 div.sk-text-repr-fallback {display: none;}</style><div id=\"sk-container-id-4\" class=\"sk-top-container\"><div class=\"sk-text-repr-fallback\"><pre>VotingClassifier(estimators=[(&#x27;xgb&#x27;,\n                              XGBClassifier(base_score=None, booster=None,\n                                            callbacks=None,\n                                            colsample_bylevel=None,\n                                            colsample_bynode=None,\n                                            colsample_bytree=None, device=None,\n                                            early_stopping_rounds=None,\n                                            enable_categorical=False,\n                                            eval_metric=None,\n                                            feature_types=None, gamma=None,\n                                            grow_policy=None,\n                                            importance_type=None,\n                                            interaction_constraints=None,\n                                            learning_rate=0.05, max_bin=None,\n                                            max_cat_threshold=None,\n                                            max_cat_to_onehot=None,\n                                            max_delta_step=None, max_depth=3,\n                                            max_leaves=None,\n                                            min_child_weight=None, missing=nan,\n                                            monotone_constraints=None,\n                                            multi_strategy=None,\n                                            n_estimators=2000, n_jobs=None,\n                                            num_parallel_tree=None,\n                                            random_state=None, ...)),\n                             (&#x27;cb&#x27;,\n                              &lt;catboost.core.CatBoostClassifier object at 0x7ce876804df0&gt;)])</pre><b>In a Jupyter environment, please rerun this cell to show the HTML representation or trust the notebook. <br />On GitHub, the HTML representation is unable to render, please try loading this page with nbviewer.org.</b></div><div class=\"sk-container\" hidden><div class=\"sk-item sk-dashed-wrapped\"><div class=\"sk-label-container\"><div class=\"sk-label sk-toggleable\"><input class=\"sk-toggleable__control sk-hidden--visually\" id=\"sk-estimator-id-13\" type=\"checkbox\" ><label for=\"sk-estimator-id-13\" class=\"sk-toggleable__label sk-toggleable__label-arrow\">VotingClassifier</label><div class=\"sk-toggleable__content\"><pre>VotingClassifier(estimators=[(&#x27;xgb&#x27;,\n                              XGBClassifier(base_score=None, booster=None,\n                                            callbacks=None,\n                                            colsample_bylevel=None,\n                                            colsample_bynode=None,\n                                            colsample_bytree=None, device=None,\n                                            early_stopping_rounds=None,\n                                            enable_categorical=False,\n                                            eval_metric=None,\n                                            feature_types=None, gamma=None,\n                                            grow_policy=None,\n                                            importance_type=None,\n                                            interaction_constraints=None,\n                                            learning_rate=0.05, max_bin=None,\n                                            max_cat_threshold=None,\n                                            max_cat_to_onehot=None,\n                                            max_delta_step=None, max_depth=3,\n                                            max_leaves=None,\n                                            min_child_weight=None, missing=nan,\n                                            monotone_constraints=None,\n                                            multi_strategy=None,\n                                            n_estimators=2000, n_jobs=None,\n                                            num_parallel_tree=None,\n                                            random_state=None, ...)),\n                             (&#x27;cb&#x27;,\n                              &lt;catboost.core.CatBoostClassifier object at 0x7ce876804df0&gt;)])</pre></div></div></div><div class=\"sk-parallel\"><div class=\"sk-parallel-item\"><div class=\"sk-item\"><div class=\"sk-label-container\"><div class=\"sk-label sk-toggleable\"><label>xgb</label></div></div><div class=\"sk-serial\"><div class=\"sk-item\"><div class=\"sk-estimator sk-toggleable\"><input class=\"sk-toggleable__control sk-hidden--visually\" id=\"sk-estimator-id-14\" type=\"checkbox\" ><label for=\"sk-estimator-id-14\" class=\"sk-toggleable__label sk-toggleable__label-arrow\">XGBClassifier</label><div class=\"sk-toggleable__content\"><pre>XGBClassifier(base_score=None, booster=None, callbacks=None,\n              colsample_bylevel=None, colsample_bynode=None,\n              colsample_bytree=None, device=None, early_stopping_rounds=None,\n              enable_categorical=False, eval_metric=None, feature_types=None,\n              gamma=None, grow_policy=None, importance_type=None,\n              interaction_constraints=None, learning_rate=0.05, max_bin=None,\n              max_cat_threshold=None, max_cat_to_onehot=None,\n              max_delta_step=None, max_depth=3, max_leaves=None,\n              min_child_weight=None, missing=nan, monotone_constraints=None,\n              multi_strategy=None, n_estimators=2000, n_jobs=None,\n              num_parallel_tree=None, random_state=None, ...)</pre></div></div></div></div></div></div><div class=\"sk-parallel-item\"><div class=\"sk-item\"><div class=\"sk-label-container\"><div class=\"sk-label sk-toggleable\"><label>cb</label></div></div><div class=\"sk-serial\"><div class=\"sk-item\"><div class=\"sk-estimator sk-toggleable\"><input class=\"sk-toggleable__control sk-hidden--visually\" id=\"sk-estimator-id-15\" type=\"checkbox\" ><label for=\"sk-estimator-id-15\" class=\"sk-toggleable__label sk-toggleable__label-arrow\">CatBoostClassifier</label><div class=\"sk-toggleable__content\"><pre>&lt;catboost.core.CatBoostClassifier object at 0x7ce876804df0&gt;</pre></div></div></div></div></div></div></div></div></div></div>"
          },
          "metadata": {}
        }
      ]
    },
    {
      "cell_type": "markdown",
      "source": [
        "# Test prediction"
      ],
      "metadata": {
        "id": "oafgpt6LQeL5"
      }
    },
    {
      "cell_type": "code",
      "source": [
        "test_csv = pd.read_csv(\"/kaggle/input/spaceship-titanic/test.csv\")\n",
        "test_csv[[\"Deck\", \"Num\", \"Side\"]] = test_csv[\"Cabin\"].str.split(\"/\", expand = True)\n",
        "test_csv.drop(columns = [\"Cabin\", \"Name\"], inplace = True)"
      ],
      "metadata": {
        "execution": {
          "iopub.status.busy": "2024-05-08T19:53:55.685312Z",
          "iopub.execute_input": "2024-05-08T19:53:55.685792Z",
          "iopub.status.idle": "2024-05-08T19:53:55.735558Z",
          "shell.execute_reply.started": "2024-05-08T19:53:55.685754Z",
          "shell.execute_reply": "2024-05-08T19:53:55.734359Z"
        },
        "trusted": true,
        "id": "ulqbqFr9QeL6"
      },
      "execution_count": null,
      "outputs": []
    },
    {
      "cell_type": "code",
      "source": [
        "#deal with null and nan\n",
        "features_to_fill_mean = [\"RoomService\", \"ShoppingMall\", \"Spa\", \"VRDeck\", \"FoodCourt\"]\n",
        "features_to_fill_max_appearances = [\"Age\", \"Deck\", \"Num\", \"Side\", \"CryoSleep\", \"HomePlanet\", \"VIP\", \"Destination\"]\n",
        "\n",
        "test_csv[features_to_fill_mean] = test_csv[features_to_fill_mean].fillna(test_csv[features_to_fill_mean].mean())\n",
        "test_csv[features_to_fill_max_appearances] = test_csv[features_to_fill_max_appearances].fillna(test_csv[features_to_fill_max_appearances].mode().iloc[0])"
      ],
      "metadata": {
        "execution": {
          "iopub.status.busy": "2024-05-08T19:53:56.953822Z",
          "iopub.execute_input": "2024-05-08T19:53:56.95787Z",
          "iopub.status.idle": "2024-05-08T19:53:56.997943Z",
          "shell.execute_reply.started": "2024-05-08T19:53:56.957814Z",
          "shell.execute_reply": "2024-05-08T19:53:56.996567Z"
        },
        "trusted": true,
        "id": "bSEhhjxAQeL6",
        "outputId": "c7a03b00-743b-4f37-f348-fcdbe2bc3e13"
      },
      "execution_count": null,
      "outputs": [
        {
          "name": "stderr",
          "text": "/tmp/ipykernel_33/460307614.py:6: FutureWarning: Downcasting object dtype arrays on .fillna, .ffill, .bfill is deprecated and will change in a future version. Call result.infer_objects(copy=False) instead. To opt-in to the future behavior, set `pd.set_option('future.no_silent_downcasting', True)`\n  test_csv[features_to_fill_max_appearances] = test_csv[features_to_fill_max_appearances].fillna(test_csv[features_to_fill_max_appearances].mode().iloc[0])\n",
          "output_type": "stream"
        }
      ]
    },
    {
      "cell_type": "code",
      "source": [
        "#trying to create new features\n",
        "test_csv[\"TotalSpent\"] = test_csv[[\"RoomService\", \"FoodCourt\", \"ShoppingMall\", \"Spa\", \"VRDeck\"]].sum(axis=1)\n",
        "\n",
        "#Deal with passenger id gggg_pp -> gggg is the group and pp is the number within the group\n",
        "test_csv[[\"Group\", \"Position\"]] = test_csv[\"PassengerId\"].str.split(\"_\", expand = True)\n",
        "\n",
        "#Feature HomePlanet to End point\n",
        "test_csv[\"InitEnd\"] = test_csv[\"HomePlanet\"] + \"_\" + test_csv[\"Destination\"]\n",
        "\n",
        "\n",
        "#Creating the column with number of people in a group\n",
        "\n",
        "group_counts = test_csv[\"Group\"].value_counts()\n",
        "group_counts = group_counts.to_dict()\n",
        "test_csv[\"QtGroupMembers\"] = test_csv[\"Group\"].map(group_counts)"
      ],
      "metadata": {
        "execution": {
          "iopub.status.busy": "2024-05-08T19:53:59.204959Z",
          "iopub.execute_input": "2024-05-08T19:53:59.205439Z",
          "iopub.status.idle": "2024-05-08T19:53:59.246053Z",
          "shell.execute_reply.started": "2024-05-08T19:53:59.205406Z",
          "shell.execute_reply": "2024-05-08T19:53:59.244935Z"
        },
        "trusted": true,
        "id": "ZHyU7_SwQeL6"
      },
      "execution_count": null,
      "outputs": []
    },
    {
      "cell_type": "code",
      "source": [
        "test_csv = pd.get_dummies(test_csv, columns=['HomePlanet', 'Deck', 'Side', \"Destination\", \"VIP\"])\n",
        "\n",
        "test_csv.head()"
      ],
      "metadata": {
        "execution": {
          "iopub.status.busy": "2024-05-08T19:54:00.514514Z",
          "iopub.execute_input": "2024-05-08T19:54:00.514902Z",
          "iopub.status.idle": "2024-05-08T19:54:00.557608Z",
          "shell.execute_reply.started": "2024-05-08T19:54:00.514872Z",
          "shell.execute_reply": "2024-05-08T19:54:00.556202Z"
        },
        "trusted": true,
        "id": "FAMOEbwDQeL6",
        "outputId": "a1893827-e5e2-4cef-d991-71629cdefb63"
      },
      "execution_count": null,
      "outputs": [
        {
          "execution_count": 19,
          "output_type": "execute_result",
          "data": {
            "text/plain": "  PassengerId  CryoSleep   Age  RoomService  FoodCourt  ShoppingMall     Spa  \\\n0     0013_01       True  27.0          0.0        0.0           0.0     0.0   \n1     0018_01      False  19.0          0.0        9.0           0.0  2823.0   \n2     0019_01       True  31.0          0.0        0.0           0.0     0.0   \n3     0021_01      False  38.0          0.0     6652.0           0.0   181.0   \n4     0023_01      False  20.0         10.0        0.0         635.0     0.0   \n\n   VRDeck Num  TotalSpent  ... Deck_F Deck_G Deck_T  Side_P  Side_S  \\\n0     0.0   3         0.0  ...  False   True  False   False    True   \n1     0.0   4      2832.0  ...   True  False  False   False    True   \n2     0.0   0         0.0  ...  False  False  False   False    True   \n3   585.0   1      7418.0  ...  False  False  False   False    True   \n4     0.0   5       645.0  ...   True  False  False   False    True   \n\n   Destination_55 Cancri e  Destination_PSO J318.5-22  \\\n0                    False                      False   \n1                    False                      False   \n2                     True                      False   \n3                    False                      False   \n4                    False                      False   \n\n   Destination_TRAPPIST-1e  VIP_False  VIP_True  \n0                     True       True     False  \n1                     True       True     False  \n2                    False       True     False  \n3                     True       True     False  \n4                     True       True     False  \n\n[5 rows x 32 columns]",
            "text/html": "<div>\n<style scoped>\n    .dataframe tbody tr th:only-of-type {\n        vertical-align: middle;\n    }\n\n    .dataframe tbody tr th {\n        vertical-align: top;\n    }\n\n    .dataframe thead th {\n        text-align: right;\n    }\n</style>\n<table border=\"1\" class=\"dataframe\">\n  <thead>\n    <tr style=\"text-align: right;\">\n      <th></th>\n      <th>PassengerId</th>\n      <th>CryoSleep</th>\n      <th>Age</th>\n      <th>RoomService</th>\n      <th>FoodCourt</th>\n      <th>ShoppingMall</th>\n      <th>Spa</th>\n      <th>VRDeck</th>\n      <th>Num</th>\n      <th>TotalSpent</th>\n      <th>...</th>\n      <th>Deck_F</th>\n      <th>Deck_G</th>\n      <th>Deck_T</th>\n      <th>Side_P</th>\n      <th>Side_S</th>\n      <th>Destination_55 Cancri e</th>\n      <th>Destination_PSO J318.5-22</th>\n      <th>Destination_TRAPPIST-1e</th>\n      <th>VIP_False</th>\n      <th>VIP_True</th>\n    </tr>\n  </thead>\n  <tbody>\n    <tr>\n      <th>0</th>\n      <td>0013_01</td>\n      <td>True</td>\n      <td>27.0</td>\n      <td>0.0</td>\n      <td>0.0</td>\n      <td>0.0</td>\n      <td>0.0</td>\n      <td>0.0</td>\n      <td>3</td>\n      <td>0.0</td>\n      <td>...</td>\n      <td>False</td>\n      <td>True</td>\n      <td>False</td>\n      <td>False</td>\n      <td>True</td>\n      <td>False</td>\n      <td>False</td>\n      <td>True</td>\n      <td>True</td>\n      <td>False</td>\n    </tr>\n    <tr>\n      <th>1</th>\n      <td>0018_01</td>\n      <td>False</td>\n      <td>19.0</td>\n      <td>0.0</td>\n      <td>9.0</td>\n      <td>0.0</td>\n      <td>2823.0</td>\n      <td>0.0</td>\n      <td>4</td>\n      <td>2832.0</td>\n      <td>...</td>\n      <td>True</td>\n      <td>False</td>\n      <td>False</td>\n      <td>False</td>\n      <td>True</td>\n      <td>False</td>\n      <td>False</td>\n      <td>True</td>\n      <td>True</td>\n      <td>False</td>\n    </tr>\n    <tr>\n      <th>2</th>\n      <td>0019_01</td>\n      <td>True</td>\n      <td>31.0</td>\n      <td>0.0</td>\n      <td>0.0</td>\n      <td>0.0</td>\n      <td>0.0</td>\n      <td>0.0</td>\n      <td>0</td>\n      <td>0.0</td>\n      <td>...</td>\n      <td>False</td>\n      <td>False</td>\n      <td>False</td>\n      <td>False</td>\n      <td>True</td>\n      <td>True</td>\n      <td>False</td>\n      <td>False</td>\n      <td>True</td>\n      <td>False</td>\n    </tr>\n    <tr>\n      <th>3</th>\n      <td>0021_01</td>\n      <td>False</td>\n      <td>38.0</td>\n      <td>0.0</td>\n      <td>6652.0</td>\n      <td>0.0</td>\n      <td>181.0</td>\n      <td>585.0</td>\n      <td>1</td>\n      <td>7418.0</td>\n      <td>...</td>\n      <td>False</td>\n      <td>False</td>\n      <td>False</td>\n      <td>False</td>\n      <td>True</td>\n      <td>False</td>\n      <td>False</td>\n      <td>True</td>\n      <td>True</td>\n      <td>False</td>\n    </tr>\n    <tr>\n      <th>4</th>\n      <td>0023_01</td>\n      <td>False</td>\n      <td>20.0</td>\n      <td>10.0</td>\n      <td>0.0</td>\n      <td>635.0</td>\n      <td>0.0</td>\n      <td>0.0</td>\n      <td>5</td>\n      <td>645.0</td>\n      <td>...</td>\n      <td>True</td>\n      <td>False</td>\n      <td>False</td>\n      <td>False</td>\n      <td>True</td>\n      <td>False</td>\n      <td>False</td>\n      <td>True</td>\n      <td>True</td>\n      <td>False</td>\n    </tr>\n  </tbody>\n</table>\n<p>5 rows × 32 columns</p>\n</div>"
          },
          "metadata": {}
        }
      ]
    },
    {
      "cell_type": "code",
      "source": [
        "#now its necessary encode categorical data\n",
        "Passengers = test_csv[\"PassengerId\"]\n",
        "test_csv.drop(columns = [\"PassengerId\"])\n",
        "le = LabelEncoder()\n",
        "\n",
        "# encodings = [\"HomePlanet\", \"CryoSleep\", \"Destination\", \"VIP\", \"Deck\", \"Side\", \"Group\", \"Position\"]\n",
        "encodings = [\"Group\", \"Position\", \"InitEnd\", 'HomePlanet_Earth', 'HomePlanet_Europa',\n",
        "            'HomePlanet_Mars', 'Deck_A', 'Deck_B', 'Deck_C', 'Deck_D', 'Deck_E', 'Deck_F', 'Deck_G',\n",
        "            'Deck_T', 'Side_P', 'Side_S', 'CryoSleep','Destination_55 Cancri e',\n",
        "            'Destination_PSO J318.5-22', 'Destination_TRAPPIST-1e', 'VIP_False', 'VIP_True']\n",
        "\n",
        "for encode in encodings:\n",
        "    le.fit(test_csv[encode])\n",
        "    test_csv[encode] = le.transform(test_csv[encode])"
      ],
      "metadata": {
        "execution": {
          "iopub.status.busy": "2024-05-08T19:54:01.280136Z",
          "iopub.execute_input": "2024-05-08T19:54:01.28057Z",
          "iopub.status.idle": "2024-05-08T19:54:01.322672Z",
          "shell.execute_reply.started": "2024-05-08T19:54:01.280538Z",
          "shell.execute_reply": "2024-05-08T19:54:01.321068Z"
        },
        "trusted": true,
        "id": "BoAOqwzKQeL6"
      },
      "execution_count": null,
      "outputs": []
    },
    {
      "cell_type": "code",
      "source": [
        "features_selected = [\"CryoSleep\", \"RoomService\", \"Spa\", \"VRDeck\", \"TotalSpent\", \"HomePlanet_Europa\", \"HomePlanet_Earth\", \"Deck_B\", \"Destination_55 Cancri e\",\n",
        "                    \"Deck_C\", \"Side_S\"]\n",
        "\n",
        "test_csv = test_csv[features_selected]\n",
        "test_csv[\"TotalSpent\"] = test_csv[\"TotalSpent\"]/test_csv[\"TotalSpent\"].max()\n",
        "test_csv[\"VRDeck\"] = test_csv[\"VRDeck\"]/test_csv[\"VRDeck\"].max()\n",
        "test_csv[\"Spa\"] = test_csv[\"Spa\"]/test_csv[\"Spa\"].max()\n",
        "test_csv[\"RoomService\"] = test_csv[\"RoomService\"]/test_csv[\"RoomService\"].max()\n",
        "# test_csv[\"Age\"] = test_csv[\"Age\"]/test_csv[\"Age\"].max()"
      ],
      "metadata": {
        "execution": {
          "iopub.status.busy": "2024-05-08T19:54:02.41686Z",
          "iopub.execute_input": "2024-05-08T19:54:02.417317Z",
          "iopub.status.idle": "2024-05-08T19:54:02.432043Z",
          "shell.execute_reply.started": "2024-05-08T19:54:02.417287Z",
          "shell.execute_reply": "2024-05-08T19:54:02.430425Z"
        },
        "trusted": true,
        "id": "JLpEgUMaQeL7"
      },
      "execution_count": null,
      "outputs": []
    },
    {
      "cell_type": "code",
      "source": [
        "test_csv.head()"
      ],
      "metadata": {
        "execution": {
          "iopub.status.busy": "2024-05-08T19:54:03.302689Z",
          "iopub.execute_input": "2024-05-08T19:54:03.303129Z",
          "iopub.status.idle": "2024-05-08T19:54:03.323252Z",
          "shell.execute_reply.started": "2024-05-08T19:54:03.303099Z",
          "shell.execute_reply": "2024-05-08T19:54:03.321128Z"
        },
        "trusted": true,
        "id": "VhNj9BNkQeL7",
        "outputId": "25f36d3d-2076-43ba-a540-59cbc7c9468e"
      },
      "execution_count": null,
      "outputs": [
        {
          "execution_count": 22,
          "output_type": "execute_result",
          "data": {
            "text/plain": "   CryoSleep  RoomService       Spa    VRDeck  TotalSpent  HomePlanet_Europa  \\\n0          1     0.000000  0.000000  0.000000    0.000000                  0   \n1          0     0.000000  0.142260  0.000000    0.084120                  0   \n2          1     0.000000  0.000000  0.000000    0.000000                  1   \n3          0     0.000000  0.009121  0.026266    0.220341                  1   \n4          0     0.000865  0.000000  0.000000    0.019159                  0   \n\n   HomePlanet_Earth  Deck_B  Destination_55 Cancri e  Deck_C  Side_S  \n0                 1       0                        0       0       1  \n1                 1       0                        0       0       1  \n2                 0       0                        1       1       1  \n3                 0       0                        0       1       1  \n4                 1       0                        0       0       1  ",
            "text/html": "<div>\n<style scoped>\n    .dataframe tbody tr th:only-of-type {\n        vertical-align: middle;\n    }\n\n    .dataframe tbody tr th {\n        vertical-align: top;\n    }\n\n    .dataframe thead th {\n        text-align: right;\n    }\n</style>\n<table border=\"1\" class=\"dataframe\">\n  <thead>\n    <tr style=\"text-align: right;\">\n      <th></th>\n      <th>CryoSleep</th>\n      <th>RoomService</th>\n      <th>Spa</th>\n      <th>VRDeck</th>\n      <th>TotalSpent</th>\n      <th>HomePlanet_Europa</th>\n      <th>HomePlanet_Earth</th>\n      <th>Deck_B</th>\n      <th>Destination_55 Cancri e</th>\n      <th>Deck_C</th>\n      <th>Side_S</th>\n    </tr>\n  </thead>\n  <tbody>\n    <tr>\n      <th>0</th>\n      <td>1</td>\n      <td>0.000000</td>\n      <td>0.000000</td>\n      <td>0.000000</td>\n      <td>0.000000</td>\n      <td>0</td>\n      <td>1</td>\n      <td>0</td>\n      <td>0</td>\n      <td>0</td>\n      <td>1</td>\n    </tr>\n    <tr>\n      <th>1</th>\n      <td>0</td>\n      <td>0.000000</td>\n      <td>0.142260</td>\n      <td>0.000000</td>\n      <td>0.084120</td>\n      <td>0</td>\n      <td>1</td>\n      <td>0</td>\n      <td>0</td>\n      <td>0</td>\n      <td>1</td>\n    </tr>\n    <tr>\n      <th>2</th>\n      <td>1</td>\n      <td>0.000000</td>\n      <td>0.000000</td>\n      <td>0.000000</td>\n      <td>0.000000</td>\n      <td>1</td>\n      <td>0</td>\n      <td>0</td>\n      <td>1</td>\n      <td>1</td>\n      <td>1</td>\n    </tr>\n    <tr>\n      <th>3</th>\n      <td>0</td>\n      <td>0.000000</td>\n      <td>0.009121</td>\n      <td>0.026266</td>\n      <td>0.220341</td>\n      <td>1</td>\n      <td>0</td>\n      <td>0</td>\n      <td>0</td>\n      <td>1</td>\n      <td>1</td>\n    </tr>\n    <tr>\n      <th>4</th>\n      <td>0</td>\n      <td>0.000865</td>\n      <td>0.000000</td>\n      <td>0.000000</td>\n      <td>0.019159</td>\n      <td>0</td>\n      <td>1</td>\n      <td>0</td>\n      <td>0</td>\n      <td>0</td>\n      <td>1</td>\n    </tr>\n  </tbody>\n</table>\n</div>"
          },
          "metadata": {}
        }
      ]
    },
    {
      "cell_type": "code",
      "source": [
        "# from tensorflow.keras.models import load_model\n",
        "\n",
        "# preds = []\n",
        "# for i in range(10):\n",
        "#     model = load_model(f\"model_{i}.h5\")\n",
        "#     predictions = model.predict(test_csv)\n",
        "#     #predictions = np.where(predictions > 0.5, True, False)\n",
        "#     preds.append(predictions)\n",
        ""
      ],
      "metadata": {
        "execution": {
          "iopub.status.busy": "2024-05-02T17:53:03.306495Z",
          "iopub.execute_input": "2024-05-02T17:53:03.306936Z",
          "iopub.status.idle": "2024-05-02T17:53:08.487527Z",
          "shell.execute_reply.started": "2024-05-02T17:53:03.306902Z",
          "shell.execute_reply": "2024-05-02T17:53:08.486308Z"
        },
        "trusted": true,
        "id": "CajZAqI9QeL7"
      },
      "execution_count": null,
      "outputs": []
    },
    {
      "cell_type": "code",
      "source": [
        "# preds_mean = np.mean(preds, axis=0)\n",
        "# preds_mean = np.where(preds_mean > 0.5, True, False)"
      ],
      "metadata": {
        "execution": {
          "iopub.status.busy": "2024-05-02T17:53:08.490219Z",
          "iopub.execute_input": "2024-05-02T17:53:08.490622Z",
          "iopub.status.idle": "2024-05-02T17:53:08.497208Z",
          "shell.execute_reply.started": "2024-05-02T17:53:08.490589Z",
          "shell.execute_reply": "2024-05-02T17:53:08.495917Z"
        },
        "trusted": true,
        "id": "zWGsCW2rQeL7"
      },
      "execution_count": null,
      "outputs": []
    },
    {
      "cell_type": "code",
      "source": [
        "# preds_mean = preds_mean.tolist()\n",
        "# preds_mean = [item[0] for item in preds_mean]"
      ],
      "metadata": {
        "execution": {
          "iopub.status.busy": "2024-05-02T17:53:08.49902Z",
          "iopub.execute_input": "2024-05-02T17:53:08.500022Z",
          "iopub.status.idle": "2024-05-02T17:53:08.518635Z",
          "shell.execute_reply.started": "2024-05-02T17:53:08.499955Z",
          "shell.execute_reply": "2024-05-02T17:53:08.517029Z"
        },
        "trusted": true,
        "id": "IVRuglOzQeL7"
      },
      "execution_count": null,
      "outputs": []
    },
    {
      "cell_type": "code",
      "source": [
        "test_predictions = voting_model.predict(test_csv)"
      ],
      "metadata": {
        "execution": {
          "iopub.status.busy": "2024-05-08T19:54:39.69231Z",
          "iopub.execute_input": "2024-05-08T19:54:39.692753Z",
          "iopub.status.idle": "2024-05-08T19:54:40.654542Z",
          "shell.execute_reply.started": "2024-05-08T19:54:39.69272Z",
          "shell.execute_reply": "2024-05-08T19:54:40.653272Z"
        },
        "trusted": true,
        "id": "cADNcWFoQeL7",
        "outputId": "6e6de9c7-e831-4624-fba7-00d39672fec3"
      },
      "execution_count": null,
      "outputs": [
        {
          "name": "stdout",
          "text": "[LightGBM] [Warning] Accuracy may be bad since you didn't explicitly set num_leaves OR 2^max_depth > num_leaves. (num_leaves=31).\n",
          "output_type": "stream"
        }
      ]
    },
    {
      "cell_type": "code",
      "source": [
        "print(test_predictions)"
      ],
      "metadata": {
        "execution": {
          "iopub.status.busy": "2024-05-08T19:54:57.397602Z",
          "iopub.execute_input": "2024-05-08T19:54:57.398902Z",
          "iopub.status.idle": "2024-05-08T19:54:57.404891Z",
          "shell.execute_reply.started": "2024-05-08T19:54:57.398853Z",
          "shell.execute_reply": "2024-05-08T19:54:57.403776Z"
        },
        "trusted": true,
        "id": "HRjz8JyfQeL8",
        "outputId": "e987daa8-e1a6-48a7-de04-3c07d056ae5b"
      },
      "execution_count": null,
      "outputs": [
        {
          "name": "stdout",
          "text": "[1 0 1 ... 1 1 1]\n",
          "output_type": "stream"
        }
      ]
    },
    {
      "cell_type": "code",
      "source": [
        "subs = {\"PassengerId\": Passengers, \"Transported\": test_predictions}\n",
        "subs = pd.DataFrame(subs)\n",
        "subs = subs.replace({1: True, 0: False})\n",
        "\n",
        "subs.to_csv(\"submission.csv\", index=False)"
      ],
      "metadata": {
        "execution": {
          "iopub.status.busy": "2024-05-08T19:55:10.448741Z",
          "iopub.execute_input": "2024-05-08T19:55:10.451027Z",
          "iopub.status.idle": "2024-05-08T19:55:10.481719Z",
          "shell.execute_reply.started": "2024-05-08T19:55:10.450977Z",
          "shell.execute_reply": "2024-05-08T19:55:10.480549Z"
        },
        "trusted": true,
        "id": "SnG2cdiVQeL8",
        "outputId": "b94a97a2-a6fc-4206-968a-aa24b42f140a"
      },
      "execution_count": null,
      "outputs": [
        {
          "name": "stderr",
          "text": "/tmp/ipykernel_33/3986478319.py:3: FutureWarning: Downcasting behavior in `replace` is deprecated and will be removed in a future version. To retain the old behavior, explicitly call `result.infer_objects(copy=False)`. To opt-in to the future behavior, set `pd.set_option('future.no_silent_downcasting', True)`\n  subs = subs.replace({1: True, 0: False})\n",
          "output_type": "stream"
        }
      ]
    },
    {
      "cell_type": "code",
      "source": [
        "subs.head()"
      ],
      "metadata": {
        "execution": {
          "iopub.status.busy": "2024-05-02T17:53:08.546443Z",
          "iopub.execute_input": "2024-05-02T17:53:08.546829Z",
          "iopub.status.idle": "2024-05-02T17:53:08.559592Z",
          "shell.execute_reply.started": "2024-05-02T17:53:08.546796Z",
          "shell.execute_reply": "2024-05-02T17:53:08.558205Z"
        },
        "trusted": true,
        "id": "tE-MjOcxQeL8"
      },
      "execution_count": null,
      "outputs": []
    },
    {
      "cell_type": "code",
      "source": [],
      "metadata": {
        "id": "HPFtXXQQQeL8"
      },
      "execution_count": null,
      "outputs": []
    }
  ]
}